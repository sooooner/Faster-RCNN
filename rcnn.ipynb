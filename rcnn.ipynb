{
 "cells": [
  {
   "cell_type": "code",
   "execution_count": 1,
   "id": "identified-happening",
   "metadata": {},
   "outputs": [],
   "source": [
    "import cv2\n",
    "import pandas as pd\n",
    "import numpy as np\n",
    "import matplotlib.pyplot as plt\n",
    "import tensorflow as tf\n",
    "from tqdm import tqdm\n",
    "from itertools import product\n",
    "\n",
    "import os"
   ]
  },
  {
   "cell_type": "code",
   "execution_count": 2,
   "id": "reliable-sherman",
   "metadata": {},
   "outputs": [],
   "source": [
    "df = pd.read_csv('./res/train_df.csv')\n",
    "image = cv2.imread('./res/train_imgs/001-1-1-01-Z17_A-0000001.jpg', cv2.COLOR_BGR2RGB)\n",
    "inputs = tf.expand_dims(image, 0)"
   ]
  },
  {
   "cell_type": "code",
   "execution_count": 512,
   "id": "about-produce",
   "metadata": {},
   "outputs": [],
   "source": [
    "# plt.imshow(image)\n",
    "# plt.axis('off')\n",
    "# plt.show()"
   ]
  },
  {
   "cell_type": "code",
   "execution_count": 5,
   "id": "brave-planning",
   "metadata": {},
   "outputs": [],
   "source": [
    "df['x_min'] = df.iloc[:, 1:49:2].apply(lambda x: int(min(x)), axis=1)\n",
    "df['x_max'] = df.iloc[:, 1:49:2].apply(lambda x: int(max(x)), axis=1)\n",
    "df['y_min'] = df.iloc[:, 2:49:2].apply(lambda x: int(min(x)), axis=1)\n",
    "df['y_max'] = df.iloc[:, 2:49:2].apply(lambda x: int(max(x)), axis=1)"
   ]
  },
  {
   "cell_type": "code",
   "execution_count": 6,
   "id": "ordered-movie",
   "metadata": {},
   "outputs": [
    {
     "data": {
      "text/html": [
       "<div>\n",
       "<style scoped>\n",
       "    .dataframe tbody tr th:only-of-type {\n",
       "        vertical-align: middle;\n",
       "    }\n",
       "\n",
       "    .dataframe tbody tr th {\n",
       "        vertical-align: top;\n",
       "    }\n",
       "\n",
       "    .dataframe thead th {\n",
       "        text-align: right;\n",
       "    }\n",
       "</style>\n",
       "<table border=\"1\" class=\"dataframe\">\n",
       "  <thead>\n",
       "    <tr style=\"text-align: right;\">\n",
       "      <th></th>\n",
       "      <th>image</th>\n",
       "      <th>nose_x</th>\n",
       "      <th>nose_y</th>\n",
       "      <th>left_eye_x</th>\n",
       "      <th>left_eye_y</th>\n",
       "      <th>right_eye_x</th>\n",
       "      <th>right_eye_y</th>\n",
       "      <th>left_ear_x</th>\n",
       "      <th>left_ear_y</th>\n",
       "      <th>right_ear_x</th>\n",
       "      <th>...</th>\n",
       "      <th>spine1(waist)_x</th>\n",
       "      <th>spine1(waist)_y</th>\n",
       "      <th>left_instep_x</th>\n",
       "      <th>left_instep_y</th>\n",
       "      <th>right_instep_x</th>\n",
       "      <th>right_instep_y</th>\n",
       "      <th>x_min</th>\n",
       "      <th>x_max</th>\n",
       "      <th>y_min</th>\n",
       "      <th>y_max</th>\n",
       "    </tr>\n",
       "  </thead>\n",
       "  <tbody>\n",
       "    <tr>\n",
       "      <th>0</th>\n",
       "      <td>001-1-1-01-Z17_A-0000001.jpg</td>\n",
       "      <td>1046.389631</td>\n",
       "      <td>344.757881</td>\n",
       "      <td>1041.655294</td>\n",
       "      <td>329.820225</td>\n",
       "      <td>1059.429507</td>\n",
       "      <td>334.484230</td>\n",
       "      <td>1020.117796</td>\n",
       "      <td>338.890539</td>\n",
       "      <td>1048.000000</td>\n",
       "      <td>...</td>\n",
       "      <td>1026.515770</td>\n",
       "      <td>514.054730</td>\n",
       "      <td>998.578836</td>\n",
       "      <td>826.718013</td>\n",
       "      <td>1063.204067</td>\n",
       "      <td>838.827465</td>\n",
       "      <td>956</td>\n",
       "      <td>1134</td>\n",
       "      <td>316</td>\n",
       "      <td>838</td>\n",
       "    </tr>\n",
       "    <tr>\n",
       "      <th>1</th>\n",
       "      <td>001-1-1-01-Z17_A-0000003.jpg</td>\n",
       "      <td>1069.850679</td>\n",
       "      <td>340.711494</td>\n",
       "      <td>1058.608552</td>\n",
       "      <td>324.593690</td>\n",
       "      <td>1075.242111</td>\n",
       "      <td>325.593690</td>\n",
       "      <td>1041.422997</td>\n",
       "      <td>331.694815</td>\n",
       "      <td>1065.593682</td>\n",
       "      <td>...</td>\n",
       "      <td>1058.766231</td>\n",
       "      <td>508.797029</td>\n",
       "      <td>1002.265676</td>\n",
       "      <td>699.062706</td>\n",
       "      <td>1066.376234</td>\n",
       "      <td>841.499445</td>\n",
       "      <td>974</td>\n",
       "      <td>1144</td>\n",
       "      <td>323</td>\n",
       "      <td>841</td>\n",
       "    </tr>\n",
       "    <tr>\n",
       "      <th>2</th>\n",
       "      <td>001-1-1-01-Z17_A-0000005.jpg</td>\n",
       "      <td>1084.475902</td>\n",
       "      <td>337.000008</td>\n",
       "      <td>1078.717997</td>\n",
       "      <td>323.757889</td>\n",
       "      <td>1095.648412</td>\n",
       "      <td>325.242119</td>\n",
       "      <td>1061.039884</td>\n",
       "      <td>329.351571</td>\n",
       "      <td>1086.461032</td>\n",
       "      <td>...</td>\n",
       "      <td>1052.844144</td>\n",
       "      <td>495.890539</td>\n",
       "      <td>989.437847</td>\n",
       "      <td>808.757889</td>\n",
       "      <td>1066.071417</td>\n",
       "      <td>841.749554</td>\n",
       "      <td>984</td>\n",
       "      <td>1163</td>\n",
       "      <td>319</td>\n",
       "      <td>841</td>\n",
       "    </tr>\n",
       "    <tr>\n",
       "      <th>3</th>\n",
       "      <td>001-1-1-01-Z17_A-0000007.jpg</td>\n",
       "      <td>1042.320047</td>\n",
       "      <td>361.452689</td>\n",
       "      <td>1037.907194</td>\n",
       "      <td>344.117804</td>\n",
       "      <td>1050.328382</td>\n",
       "      <td>353.913729</td>\n",
       "      <td>1016.844144</td>\n",
       "      <td>340.913737</td>\n",
       "      <td>1042.164191</td>\n",
       "      <td>...</td>\n",
       "      <td>990.375124</td>\n",
       "      <td>507.624866</td>\n",
       "      <td>1001.305177</td>\n",
       "      <td>829.233767</td>\n",
       "      <td>1159.516499</td>\n",
       "      <td>599.389997</td>\n",
       "      <td>941</td>\n",
       "      <td>1159</td>\n",
       "      <td>328</td>\n",
       "      <td>829</td>\n",
       "    </tr>\n",
       "    <tr>\n",
       "      <th>4</th>\n",
       "      <td>001-1-1-01-Z17_A-0000009.jpg</td>\n",
       "      <td>1058.046395</td>\n",
       "      <td>343.164191</td>\n",
       "      <td>1046.717997</td>\n",
       "      <td>331.703163</td>\n",
       "      <td>1058.132650</td>\n",
       "      <td>331.781079</td>\n",
       "      <td>1031.258806</td>\n",
       "      <td>338.593690</td>\n",
       "      <td>1049.812620</td>\n",
       "      <td>...</td>\n",
       "      <td>1034.391088</td>\n",
       "      <td>510.843791</td>\n",
       "      <td>998.625231</td>\n",
       "      <td>805.218921</td>\n",
       "      <td>1059.625956</td>\n",
       "      <td>839.765102</td>\n",
       "      <td>961</td>\n",
       "      <td>1132</td>\n",
       "      <td>331</td>\n",
       "      <td>839</td>\n",
       "    </tr>\n",
       "  </tbody>\n",
       "</table>\n",
       "<p>5 rows × 53 columns</p>\n",
       "</div>"
      ],
      "text/plain": [
       "                          image       nose_x      nose_y   left_eye_x  \\\n",
       "0  001-1-1-01-Z17_A-0000001.jpg  1046.389631  344.757881  1041.655294   \n",
       "1  001-1-1-01-Z17_A-0000003.jpg  1069.850679  340.711494  1058.608552   \n",
       "2  001-1-1-01-Z17_A-0000005.jpg  1084.475902  337.000008  1078.717997   \n",
       "3  001-1-1-01-Z17_A-0000007.jpg  1042.320047  361.452689  1037.907194   \n",
       "4  001-1-1-01-Z17_A-0000009.jpg  1058.046395  343.164191  1046.717997   \n",
       "\n",
       "   left_eye_y  right_eye_x  right_eye_y   left_ear_x  left_ear_y  right_ear_x  \\\n",
       "0  329.820225  1059.429507   334.484230  1020.117796  338.890539  1048.000000   \n",
       "1  324.593690  1075.242111   325.593690  1041.422997  331.694815  1065.593682   \n",
       "2  323.757889  1095.648412   325.242119  1061.039884  329.351571  1086.461032   \n",
       "3  344.117804  1050.328382   353.913729  1016.844144  340.913737  1042.164191   \n",
       "4  331.703163  1058.132650   331.781079  1031.258806  338.593690  1049.812620   \n",
       "\n",
       "   ...  spine1(waist)_x  spine1(waist)_y  left_instep_x  left_instep_y  \\\n",
       "0  ...      1026.515770       514.054730     998.578836     826.718013   \n",
       "1  ...      1058.766231       508.797029    1002.265676     699.062706   \n",
       "2  ...      1052.844144       495.890539     989.437847     808.757889   \n",
       "3  ...       990.375124       507.624866    1001.305177     829.233767   \n",
       "4  ...      1034.391088       510.843791     998.625231     805.218921   \n",
       "\n",
       "   right_instep_x  right_instep_y  x_min  x_max  y_min  y_max  \n",
       "0     1063.204067      838.827465    956   1134    316    838  \n",
       "1     1066.376234      841.499445    974   1144    323    841  \n",
       "2     1066.071417      841.749554    984   1163    319    841  \n",
       "3     1159.516499      599.389997    941   1159    328    829  \n",
       "4     1059.625956      839.765102    961   1132    331    839  \n",
       "\n",
       "[5 rows x 53 columns]"
      ]
     },
     "execution_count": 6,
     "metadata": {},
     "output_type": "execute_result"
    }
   ],
   "source": [
    "df.head()"
   ]
  },
  {
   "cell_type": "markdown",
   "id": "separated-albuquerque",
   "metadata": {},
   "source": [
    "# Faster R-CNN"
   ]
  },
  {
   "cell_type": "markdown",
   "id": "secure-chaos",
   "metadata": {},
   "source": [
    "## backbone"
   ]
  },
  {
   "cell_type": "markdown",
   "id": "offensive-thesaurus",
   "metadata": {},
   "source": [
    "### ResNet"
   ]
  },
  {
   "cell_type": "code",
   "execution_count": 7,
   "id": "ruled-ratio",
   "metadata": {},
   "outputs": [],
   "source": [
    "# resnet = tf.keras.applications.resnet"
   ]
  },
  {
   "cell_type": "markdown",
   "id": "everyday-annex",
   "metadata": {},
   "source": [
    "### VGG"
   ]
  },
  {
   "cell_type": "code",
   "execution_count": 8,
   "id": "protective-bubble",
   "metadata": {},
   "outputs": [],
   "source": [
    "def get_base(img_size, model='vgg'):\n",
    "    if model=='vgg':\n",
    "        base_model = tf.keras.applications.VGG16(include_top=False, input_shape=img_size)\n",
    "    elif model == 'resnet':\n",
    "        pass\n",
    "    else:\n",
    "        raise Exception('vgg, resnet')\n",
    "        \n",
    "    base_model = tf.keras.applications.VGG16(include_top=False, weights='imagenet', input_shape=img_size)\n",
    "    feature_extractor = base_model.get_layer(\"block5_conv3\")\n",
    "    base_model = tf.keras.models.Model(inputs=base_model.input, outputs=feature_extractor.output)\n",
    "    return base_model"
   ]
  },
  {
   "cell_type": "code",
   "execution_count": 9,
   "id": "cardiovascular-machine",
   "metadata": {},
   "outputs": [],
   "source": [
    "# base_model = get_base(image.shape, model='vgg')\n",
    "\n",
    "# inputs = tf.expand_dims(image, 0)\n",
    "\n",
    "# output_map = base_model(inputs)\n",
    "# imgArray = output_map.numpy().squeeze(0)\n",
    "# # output_map"
   ]
  },
  {
   "cell_type": "markdown",
   "id": "adopted-conspiracy",
   "metadata": {},
   "source": [
    "## Region Proposal Network"
   ]
  },
  {
   "cell_type": "markdown",
   "id": "blind-symbol",
   "metadata": {},
   "source": [
    "### Image resize"
   ]
  },
  {
   "cell_type": "code",
   "execution_count": 10,
   "id": "running-father",
   "metadata": {},
   "outputs": [],
   "source": [
    "df_new = df.copy()"
   ]
  },
  {
   "cell_type": "code",
   "execution_count": 11,
   "id": "english-rates",
   "metadata": {},
   "outputs": [],
   "source": [
    "Rx = 800/1920\n",
    "Ry = 800/1080\n",
    "\n",
    "df_new.iloc[:, 1:49:2] = df_new.iloc[:, 1:49:2] * Rx\n",
    "df_new.iloc[:, 2:49:2] = df_new.iloc[:, 2:49:2] * Ry"
   ]
  },
  {
   "cell_type": "code",
   "execution_count": 12,
   "id": "equal-absolute",
   "metadata": {},
   "outputs": [],
   "source": [
    "df_new['x_min'] = df_new.iloc[:, 1:49:2].apply(lambda x: int(min(x)), axis=1)\n",
    "df_new['x_max'] = df_new.iloc[:, 1:49:2].apply(lambda x: int(max(x)), axis=1)\n",
    "df_new['y_min'] = df_new.iloc[:, 2:49:2].apply(lambda x: int(min(x)), axis=1)\n",
    "df_new['y_max'] = df_new.iloc[:, 2:49:2].apply(lambda x: int(max(x)), axis=1)"
   ]
  },
  {
   "cell_type": "code",
   "execution_count": 13,
   "id": "intermediate-binding",
   "metadata": {},
   "outputs": [],
   "source": [
    "image = np.copy(cv2.resize(image, (800, 800)))\n",
    "inputs = tf.expand_dims(image, 0)"
   ]
  },
  {
   "cell_type": "markdown",
   "id": "fitted-invention",
   "metadata": {},
   "source": [
    "### Anchor boxes"
   ]
  },
  {
   "cell_type": "code",
   "execution_count": 513,
   "id": "champion-converter",
   "metadata": {},
   "outputs": [],
   "source": [
    "# ratio = 2**4\n",
    "\n",
    "# w=image.shape[1]//ratio\n",
    "# h=image.shape[0]//ratio\n",
    "\n",
    "# img_ = np.copy(image)\n",
    "# plt.figure(figsize=(10, 10))\n",
    "# for x in range(img_.shape[1]//w//2, img_.shape[1], img_.shape[1]//w):\n",
    "#     for y in range(img_.shape[0]//h//2, img_.shape[0], img_.shape[0]//h):\n",
    "#             cv2.circle(img_, (x, y), radius=1, color=(255, 0, 0), thickness=3)\n",
    "            \n",
    "# plt.imshow(img_)\n",
    "# plt.axis('off')\n",
    "# plt.show()"
   ]
  },
  {
   "cell_type": "code",
   "execution_count": 15,
   "id": "endless-ranking",
   "metadata": {},
   "outputs": [],
   "source": [
    "def anchor_box_generator(x, y):\n",
    "    ratio = [(1/np.sqrt(2), np.sqrt(2)), (1, 1), (np.sqrt(2), 1/np.sqrt(2))]\n",
    "    scales = [128, 256, 512]\n",
    "    anchor_boxes = []\n",
    "    for scale in scales:\n",
    "        for w, h in ratio:\n",
    "            w *= scale\n",
    "            h *= scale\n",
    "            anchor_boxes.append([x, y, w, h])\n",
    "    return anchor_boxes"
   ]
  },
  {
   "cell_type": "code",
   "execution_count": 16,
   "id": "attempted-series",
   "metadata": {},
   "outputs": [],
   "source": [
    "def Anchor_Boxes(img_shape, model='vgg'):\n",
    "    '''\n",
    "    input\n",
    "    img_shape : image shape\n",
    "    output \n",
    "    numpy array shape (w * h * 9, 4)\n",
    "    '''\n",
    "    if model == 'vgg':\n",
    "        ratio = 2**4\n",
    "        \n",
    "    w=image.shape[1]//ratio\n",
    "    h=image.shape[0]//ratio\n",
    "    \n",
    "    anchor_boxes = []\n",
    "    for x in range(image.shape[1]//w//2, image.shape[1], image.shape[1]//w):\n",
    "        for y in range(image.shape[0]//h//2, image.shape[0], image.shape[0]//h):\n",
    "            anchor_boxes.append(anchor_box_generator(x, y))\n",
    "    return np.array(anchor_boxes).reshape(-1, 4)"
   ]
  },
  {
   "cell_type": "code",
   "execution_count": 17,
   "id": "dated-bristol",
   "metadata": {},
   "outputs": [],
   "source": [
    "anchor_boxes = Anchor_Boxes(img_shape=image.shape, model='vgg')"
   ]
  },
  {
   "cell_type": "markdown",
   "id": "excellent-alpha",
   "metadata": {},
   "source": [
    "### Ground Truth Generating "
   ]
  },
  {
   "cell_type": "code",
   "execution_count": 18,
   "id": "amino-world",
   "metadata": {},
   "outputs": [],
   "source": [
    "# ground_truth = df.iloc[:,:1].copy() \n",
    "# ground_truth['x_min'] = df['x_min'] - (df['x_max'] - df['x_min'])*.1\n",
    "# ground_truth['x_max'] = df['x_max'] + (df['x_max'] - df['x_min'])*.1\n",
    "# ground_truth['y_min'] = df['y_min'] - (df['y_max'] - df['y_min'])*.1\n",
    "# ground_truth['y_max'] = df['y_max'] + (df['y_max'] - df['y_min'])*.07"
   ]
  },
  {
   "cell_type": "code",
   "execution_count": 19,
   "id": "ambient-picture",
   "metadata": {},
   "outputs": [],
   "source": [
    "ground_truth = df_new.iloc[:,:1].copy() \n",
    "ground_truth['x_min'] = df_new['x_min'] - (df_new['x_max'] - df_new['x_min'])*.1\n",
    "ground_truth['x_max'] = df_new['x_max'] + (df_new['x_max'] - df_new['x_min'])*.1\n",
    "ground_truth['y_min'] = df_new['y_min'] - (df_new['y_max'] - df_new['y_min'])*.1\n",
    "ground_truth['y_max'] = df_new['y_max'] + (df_new['y_max'] - df_new['y_min'])*.07"
   ]
  },
  {
   "cell_type": "code",
   "execution_count": 20,
   "id": "square-ebony",
   "metadata": {},
   "outputs": [],
   "source": [
    "ground_truth['w'] = ground_truth['x_max'] - ground_truth['x_min']\n",
    "ground_truth['h'] = ground_truth['y_max'] - ground_truth['y_min']\n",
    "ground_truth['x'] = ground_truth['w']/2 + ground_truth['x_min']\n",
    "ground_truth['y'] = ground_truth['h']/2 + ground_truth['y_min']"
   ]
  },
  {
   "cell_type": "code",
   "execution_count": 21,
   "id": "japanese-rescue",
   "metadata": {},
   "outputs": [],
   "source": [
    "GT = np.array(ground_truth[['x', 'y', 'w', 'h']])"
   ]
  },
  {
   "cell_type": "code",
   "execution_count": 22,
   "id": "outdoor-vampire",
   "metadata": {},
   "outputs": [],
   "source": [
    "GT = GT[:10]"
   ]
  },
  {
   "cell_type": "markdown",
   "id": "discrete-estonia",
   "metadata": {},
   "source": [
    "### IoU"
   ]
  },
  {
   "cell_type": "code",
   "execution_count": 23,
   "id": "useful-asset",
   "metadata": {},
   "outputs": [],
   "source": [
    "def anchor_to_coordinate(box):    \n",
    "    x1 = box[0] - box[2]/2\n",
    "    x2 = box[0] + box[2]/2\n",
    "    y1 = box[1] - box[3]/2\n",
    "    y2 = box[1] + box[3]/2\n",
    "    return (x1, x2, y1, y2)"
   ]
  },
  {
   "cell_type": "code",
   "execution_count": 24,
   "id": "perceived-fighter",
   "metadata": {},
   "outputs": [],
   "source": [
    "def coordinate_to_anxhor(box):\n",
    "    w = box[1] - box[0]\n",
    "    h = box[3] - box[2]\n",
    "    x = box[0] + w/2\n",
    "    y = box[2] + h/2\n",
    "    return (x, y, w, h)"
   ]
  },
  {
   "cell_type": "code",
   "execution_count": 25,
   "id": "silent-litigation",
   "metadata": {},
   "outputs": [],
   "source": [
    "def IoU(box1, box2):\n",
    "    '''\n",
    "    anchor ver\n",
    "    '''\n",
    "    box1_area = box1[2] * box1[3]\n",
    "    box2_area = box2[2] * box2[3]\n",
    "    \n",
    "    x1 = max(box1[0] - box1[2]/2, box2[0] - box2[2]/2)\n",
    "    x2 = min(box1[0] + box1[2]/2, box2[0] + box2[2]/2)\n",
    "    \n",
    "    y1 = max(box1[1] - box1[3]/2, box2[1] - box2[3]/2)\n",
    "    y2 = min(box1[1] + box1[3]/2, box2[1] + box2[3]/2)\n",
    "    \n",
    "    h = max(0.0, y2 - y1 + 1)\n",
    "    w = max(0.0, x2 - x1 + 1)\n",
    "    \n",
    "    if (w <= 0) or (h <= 0):\n",
    "        return 0.0\n",
    "    \n",
    "    intersect = h * w\n",
    "    union = box1_area + box2_area - intersect\n",
    "    return intersect / union "
   ]
  },
  {
   "cell_type": "code",
   "execution_count": 26,
   "id": "closing-hayes",
   "metadata": {},
   "outputs": [],
   "source": [
    "# def IoU(box1, box2):\n",
    "#     '''\n",
    "#     coordinate ver\n",
    "#     '''\n",
    "#     box1_area = (box1[1] - box1[0] + 1) * (box1[3] - box1[2] + 1)\n",
    "#     box2_area = (box2[1] - box2[0] + 1) * (box2[3] - box2[2] + 1)\n",
    "    \n",
    "#     x1 = max(box1[0], box2[0])\n",
    "#     x2 = min(box1[1], box2[1])\n",
    "    \n",
    "#     y1 = max(box1[2], box2[2])\n",
    "#     y2 = min(box1[3], box2[3])    \n",
    "    \n",
    "#     h = max(0.0, y2 - y1 + 1)\n",
    "#     w = max(0.0, x2 - x1 + 1)\n",
    "    \n",
    "#     if (w <= 0) or (h <= 0):\n",
    "#         return 0.0\n",
    "    \n",
    "#     intersect = h * w\n",
    "#     union = box1_area + box2_area - intersect\n",
    "    \n",
    "#     iou = intersect / union\n",
    "#     return iou"
   ]
  },
  {
   "cell_type": "markdown",
   "id": "coral-milan",
   "metadata": {},
   "source": [
    "### Label Generating"
   ]
  },
  {
   "cell_type": "code",
   "execution_count": 257,
   "id": "comfortable-privilege",
   "metadata": {},
   "outputs": [],
   "source": [
    "def label_generator(GT, anchor_boxes):\n",
    "    cls_label = -np.ones(shape=(len(GT), anchor_boxes.shape[0]))\n",
    "    reg_label = np.zeros(shape=(len(GT), anchor_boxes.shape[0], 4))\n",
    "    \n",
    "    pos_iou_threshold = 0.7\n",
    "    neg_iou_threshold = 0.3\n",
    "    \n",
    "    n_sample = 256\n",
    "    pos_ratio = 0.5\n",
    "    n_pos = int(pos_ratio * n_sample)\n",
    "    \n",
    "    for i in tqdm(range(cls_label.shape[0])):\n",
    "        gt = GT[i]\n",
    "        max_iou = 0\n",
    "        \n",
    "        x = gt[0]\n",
    "        y = gt[1]\n",
    "        w = gt[2]\n",
    "        h = gt[3]\n",
    "        \n",
    "        for j in range(cls_label.shape[1]):\n",
    "            iou = IoU(gt, anchor_boxes[j])\n",
    "            xa = anchor_boxes[j][0]\n",
    "            ya = anchor_boxes[j][1]\n",
    "            wa = anchor_boxes[j][2]\n",
    "            ha = anchor_boxes[j][3]\n",
    "            \n",
    "            if iou >= pos_iou_threshold:\n",
    "                cls_label[i][j] = 1\n",
    "                reg_label[i][j][0] = (x - xa)/wa\n",
    "                reg_label[i][j][1] = (y - ya)/ha\n",
    "                reg_label[i][j][2] = np.log(w/wa)\n",
    "                reg_label[i][j][3] = np.log(h/ha)\n",
    "                \n",
    "            elif iou < neg_iou_threshold:\n",
    "                cls_label[i][j] = 0\n",
    "                \n",
    "            if iou > max_iou:\n",
    "                max_iou = iou\n",
    "                tmp_i, tmp_j = i, j\n",
    "                tmp_tx = (x - xa)/wa\n",
    "                tmp_ty = (y - ya)/ha\n",
    "                tmp_tw = np.log(w/wa)\n",
    "                tmp_th = np.log(h/ha)\n",
    "\n",
    "        cls_label[tmp_i][tmp_j] = 1\n",
    "        reg_label[tmp_i][tmp_j][0] = tmp_tx\n",
    "        reg_label[tmp_i][tmp_j][1] = tmp_ty\n",
    "        reg_label[tmp_i][tmp_j][2] = tmp_tw\n",
    "        reg_label[tmp_i][tmp_j][3] = tmp_th\n",
    "        \n",
    "        pos_index = np.where(cls_label[i] == 1)[0]\n",
    "        \n",
    "        if len(pos_index) > n_pos:\n",
    "            disable_index = np.random.choice(\n",
    "                pos_index,\n",
    "                size = (len(pos_index) - n_pos)\n",
    "            )\n",
    "            cls_label[i][disable_index] = -1\n",
    "            reg_label[i][disable_index] = 0\n",
    "            \n",
    "    return cls_label, reg_label"
   ]
  },
  {
   "cell_type": "code",
   "execution_count": 258,
   "id": "renewable-leone",
   "metadata": {},
   "outputs": [
    {
     "name": "stderr",
     "output_type": "stream",
     "text": [
      "100%|██████████████████████████████████████████████████████████████████████████████████| 10/10 [00:04<00:00,  2.06it/s]\n"
     ]
    }
   ],
   "source": [
    "cls_label, reg_label = label_generator(GT, anchor_boxes)"
   ]
  },
  {
   "cell_type": "code",
   "execution_count": 283,
   "id": "affected-processing",
   "metadata": {},
   "outputs": [
    {
     "data": {
      "text/plain": [
       "(array([11469, 11469, 11469, 11469], dtype=int64),\n",
       " array([0, 1, 2, 3], dtype=int64))"
      ]
     },
     "execution_count": 283,
     "metadata": {},
     "output_type": "execute_result"
    }
   ],
   "source": [
    "np.where(reg_label[1] != 0)"
   ]
  },
  {
   "cell_type": "code",
   "execution_count": 465,
   "id": "behind-scottish",
   "metadata": {},
   "outputs": [],
   "source": [
    "def label_generator(GT, anchor_boxes):\n",
    "    cls_label = -np.ones(shape=(len(GT), anchor_boxes.shape[0]))\n",
    "    pos_iou_threshold = 0.5\n",
    "    neg_iou_threshold = 0.3\n",
    "    n_sample = 256\n",
    "    pos_ratio = 0.5\n",
    "    n_pos = int(pos_ratio * n_sample)\n",
    "    \n",
    "    for i in tqdm(range(cls_label.shape[0])):\n",
    "        gt = GT[i]\n",
    "        max_iou = 0\n",
    "        \n",
    "        for j in range(cls_label.shape[1]):\n",
    "            iou = IoU(gt, anchor_boxes[j])\n",
    "            \n",
    "            if iou >= pos_iou_threshold:\n",
    "                cls_label[i][j] = 1\n",
    "            elif iou < neg_iou_threshold:\n",
    "                cls_label[i][j] = 0\n",
    "                \n",
    "            if iou > max_iou:\n",
    "                max_iou = iou\n",
    "                tmp_i, tmp_j = i, j\n",
    "                \n",
    "        cls_label[tmp_i][tmp_j] = 1\n",
    "        \n",
    "        pos_index = np.where(cls_label[i] == 1)[0]\n",
    "        if len(pos_index) > n_pos:\n",
    "            disable_index = np.random.choice(\n",
    "                pos_index,\n",
    "                size = (len(pos_index) - n_pos)\n",
    "            )\n",
    "            cls_label[i][disable_index] = -1\n",
    "            \n",
    "    reg_label = np.zeros(shape=(len(GT), anchor_boxes.shape[0], 4))\n",
    "#     for i in range(len(cls_label)):\n",
    "#         reg_label[i] = anchor_boxes * np.broadcast_to(tf.cast(cls_label[i] > 0, tf.int32), (4, len(cls_label[i]))).T\n",
    "#         indices = np.where(reg_label[i] != 0)[0]\n",
    "#         print(indices)\n",
    "#         x, y, w, h = GT[i][0], GT[i][1], GT[i][2], GT[i][3]\n",
    "        \n",
    "#         tx = (x - reg_label[i][indices][0]) / (reg_label[i][indices][2])\n",
    "#         ty = (y - reg_label[i][indices][1]) / (reg_label[i][indices][3])\n",
    "#         tw = np.log(w / reg_label[i][indices][2]) \n",
    "#         th = np.log(h / reg_label[i][indices][3]) \n",
    "#         reg_label[i][indices] = np.stack([tx, ty, tw, th])\n",
    "        \n",
    "    return cls_label, reg_label"
   ]
  },
  {
   "cell_type": "code",
   "execution_count": 466,
   "id": "equipped-sudan",
   "metadata": {},
   "outputs": [
    {
     "name": "stderr",
     "output_type": "stream",
     "text": [
      "100%|██████████████████████████████████████████████████████████████████████████████████| 10/10 [00:04<00:00,  2.42it/s]\n"
     ]
    }
   ],
   "source": [
    "cls_label, reg_label = label_generator(GT, anchor_boxes)"
   ]
  },
  {
   "cell_type": "code",
   "execution_count": 491,
   "id": "hollow-episode",
   "metadata": {},
   "outputs": [
    {
     "name": "stdout",
     "output_type": "stream",
     "text": [
      "0\n",
      "1\n",
      "2\n",
      "3\n"
     ]
    },
    {
     "ename": "ValueError",
     "evalue": "shape mismatch: value array of shape (4,4) could not be broadcast to indexing result of shape (140,4)",
     "output_type": "error",
     "traceback": [
      "\u001b[1;31m---------------------------------------------------------------------------\u001b[0m",
      "\u001b[1;31mValueError\u001b[0m                                Traceback (most recent call last)",
      "\u001b[1;32m<ipython-input-491-f337e7a40467>\u001b[0m in \u001b[0;36m<module>\u001b[1;34m\u001b[0m\n\u001b[0;32m      9\u001b[0m     \u001b[0mtw\u001b[0m \u001b[1;33m=\u001b[0m \u001b[0mnp\u001b[0m\u001b[1;33m.\u001b[0m\u001b[0mlog\u001b[0m\u001b[1;33m(\u001b[0m\u001b[0mw\u001b[0m \u001b[1;33m/\u001b[0m \u001b[0mreg_label\u001b[0m\u001b[1;33m[\u001b[0m\u001b[0mi\u001b[0m\u001b[1;33m]\u001b[0m\u001b[1;33m[\u001b[0m\u001b[0mindices\u001b[0m\u001b[1;33m]\u001b[0m\u001b[1;33m[\u001b[0m\u001b[1;36m2\u001b[0m\u001b[1;33m]\u001b[0m\u001b[1;33m)\u001b[0m\u001b[1;33m\u001b[0m\u001b[1;33m\u001b[0m\u001b[0m\n\u001b[0;32m     10\u001b[0m     \u001b[0mth\u001b[0m \u001b[1;33m=\u001b[0m \u001b[0mnp\u001b[0m\u001b[1;33m.\u001b[0m\u001b[0mlog\u001b[0m\u001b[1;33m(\u001b[0m\u001b[0mh\u001b[0m \u001b[1;33m/\u001b[0m \u001b[0mreg_label\u001b[0m\u001b[1;33m[\u001b[0m\u001b[0mi\u001b[0m\u001b[1;33m]\u001b[0m\u001b[1;33m[\u001b[0m\u001b[0mindices\u001b[0m\u001b[1;33m]\u001b[0m\u001b[1;33m[\u001b[0m\u001b[1;36m3\u001b[0m\u001b[1;33m]\u001b[0m\u001b[1;33m)\u001b[0m\u001b[1;33m\u001b[0m\u001b[1;33m\u001b[0m\u001b[0m\n\u001b[1;32m---> 11\u001b[1;33m     \u001b[0mreg_label\u001b[0m\u001b[1;33m[\u001b[0m\u001b[0mi\u001b[0m\u001b[1;33m]\u001b[0m\u001b[1;33m[\u001b[0m\u001b[0mindices\u001b[0m\u001b[1;33m]\u001b[0m \u001b[1;33m=\u001b[0m \u001b[0mnp\u001b[0m\u001b[1;33m.\u001b[0m\u001b[0mstack\u001b[0m\u001b[1;33m(\u001b[0m\u001b[1;33m[\u001b[0m\u001b[0mtx\u001b[0m\u001b[1;33m,\u001b[0m \u001b[0mty\u001b[0m\u001b[1;33m,\u001b[0m \u001b[0mtw\u001b[0m\u001b[1;33m,\u001b[0m \u001b[0mth\u001b[0m\u001b[1;33m]\u001b[0m\u001b[1;33m)\u001b[0m\u001b[1;33m\u001b[0m\u001b[1;33m\u001b[0m\u001b[0m\n\u001b[0m",
      "\u001b[1;31mValueError\u001b[0m: shape mismatch: value array of shape (4,4) could not be broadcast to indexing result of shape (140,4)"
     ]
    }
   ],
   "source": [
    "for i in range(len(cls_label)):\n",
    "    print(i)\n",
    "    reg_label[i] = anchor_boxes * np.broadcast_to(tf.cast(cls_label[i] > 0, tf.int32), (4, len(cls_label[i]))).T\n",
    "    indices = np.where(reg_label[i] != 0)[0]\n",
    "    x, y, w, h = GT[i][0], GT[i][1], GT[i][2], GT[i][3]\n",
    "\n",
    "    tx = (x - reg_label[i][indices][0]) / (reg_label[i][indices][2])\n",
    "    ty = (y - reg_label[i][indices][1]) / (reg_label[i][indices][3])\n",
    "    tw = np.log(w / reg_label[i][indices][2]) \n",
    "    th = np.log(h / reg_label[i][indices][3]) \n",
    "    reg_label[i][indices] = np.stack([tx, ty, tw, th])"
   ]
  },
  {
   "cell_type": "code",
   "execution_count": 496,
   "id": "coral-gothic",
   "metadata": {},
   "outputs": [],
   "source": [
    "i=3\n",
    "reg_label[i] = anchor_boxes * np.broadcast_to(tf.cast(cls_label[i] > 0, tf.int32), (4, len(cls_label[i]))).T"
   ]
  },
  {
   "cell_type": "code",
   "execution_count": 497,
   "id": "wrong-intellectual",
   "metadata": {},
   "outputs": [
    {
     "data": {
      "text/plain": [
       "array([[0., 0., 0., 0.],\n",
       "       [0., 0., 0., 0.],\n",
       "       [0., 0., 0., 0.],\n",
       "       ...,\n",
       "       [0., 0., 0., 0.],\n",
       "       [0., 0., 0., 0.],\n",
       "       [0., 0., 0., 0.]])"
      ]
     },
     "execution_count": 497,
     "metadata": {},
     "output_type": "execute_result"
    }
   ],
   "source": [
    "reg_label[i]"
   ]
  },
  {
   "cell_type": "code",
   "execution_count": 498,
   "id": "downtown-cherry",
   "metadata": {},
   "outputs": [
    {
     "data": {
      "text/plain": [
       "(array([11460, 11460, 11460, 11460, 11469, 11469, 11469, 11469, 11478,\n",
       "        11478, 11478, 11478, 11487, 11487, 11487, 11487, 11496, 11496,\n",
       "        11496, 11496, 11505, 11505, 11505, 11505, 11514, 11514, 11514,\n",
       "        11514, 11910, 11910, 11910, 11910, 11919, 11919, 11919, 11919,\n",
       "        11928, 11928, 11928, 11928, 11937, 11937, 11937, 11937, 11946,\n",
       "        11946, 11946, 11946, 11955, 11955, 11955, 11955, 11964, 11964,\n",
       "        11964, 11964, 12360, 12360, 12360, 12360, 12369, 12369, 12369,\n",
       "        12369, 12378, 12378, 12378, 12378, 12387, 12387, 12387, 12387,\n",
       "        12396, 12396, 12396, 12396, 12405, 12405, 12405, 12405, 12414,\n",
       "        12414, 12414, 12414, 12810, 12810, 12810, 12810, 12819, 12819,\n",
       "        12819, 12819, 12828, 12828, 12828, 12828, 12837, 12837, 12837,\n",
       "        12837, 12846, 12846, 12846, 12846, 12855, 12855, 12855, 12855,\n",
       "        12864, 12864, 12864, 12864, 13260, 13260, 13260, 13260, 13269,\n",
       "        13269, 13269, 13269, 13278, 13278, 13278, 13278, 13287, 13287,\n",
       "        13287, 13287, 13296, 13296, 13296, 13296, 13305, 13305, 13305,\n",
       "        13305, 13314, 13314, 13314, 13314], dtype=int64),\n",
       " array([0, 1, 2, 3, 0, 1, 2, 3, 0, 1, 2, 3, 0, 1, 2, 3, 0, 1, 2, 3, 0, 1,\n",
       "        2, 3, 0, 1, 2, 3, 0, 1, 2, 3, 0, 1, 2, 3, 0, 1, 2, 3, 0, 1, 2, 3,\n",
       "        0, 1, 2, 3, 0, 1, 2, 3, 0, 1, 2, 3, 0, 1, 2, 3, 0, 1, 2, 3, 0, 1,\n",
       "        2, 3, 0, 1, 2, 3, 0, 1, 2, 3, 0, 1, 2, 3, 0, 1, 2, 3, 0, 1, 2, 3,\n",
       "        0, 1, 2, 3, 0, 1, 2, 3, 0, 1, 2, 3, 0, 1, 2, 3, 0, 1, 2, 3, 0, 1,\n",
       "        2, 3, 0, 1, 2, 3, 0, 1, 2, 3, 0, 1, 2, 3, 0, 1, 2, 3, 0, 1, 2, 3,\n",
       "        0, 1, 2, 3, 0, 1, 2, 3], dtype=int64))"
      ]
     },
     "execution_count": 498,
     "metadata": {},
     "output_type": "execute_result"
    }
   ],
   "source": [
    "indices = np.where(reg_label[i] != 0)\n",
    "indices"
   ]
  },
  {
   "cell_type": "code",
   "execution_count": 509,
   "id": "lonely-impression",
   "metadata": {},
   "outputs": [
    {
     "data": {
      "text/plain": [
       "array([408.        , 376.        , 181.01933598, 362.03867197,\n",
       "       408.        , 392.        , 181.01933598, 362.03867197,\n",
       "       408.        , 408.        , 181.01933598, 362.03867197,\n",
       "       408.        , 424.        , 181.01933598, 362.03867197,\n",
       "       408.        , 440.        , 181.01933598, 362.03867197,\n",
       "       408.        , 456.        , 181.01933598, 362.03867197,\n",
       "       408.        , 472.        , 181.01933598, 362.03867197,\n",
       "       424.        , 376.        , 181.01933598, 362.03867197,\n",
       "       424.        , 392.        , 181.01933598, 362.03867197,\n",
       "       424.        , 408.        , 181.01933598, 362.03867197,\n",
       "       424.        , 424.        , 181.01933598, 362.03867197,\n",
       "       424.        , 440.        , 181.01933598, 362.03867197,\n",
       "       424.        , 456.        , 181.01933598, 362.03867197,\n",
       "       424.        , 472.        , 181.01933598, 362.03867197,\n",
       "       440.        , 376.        , 181.01933598, 362.03867197,\n",
       "       440.        , 392.        , 181.01933598, 362.03867197,\n",
       "       440.        , 408.        , 181.01933598, 362.03867197,\n",
       "       440.        , 424.        , 181.01933598, 362.03867197,\n",
       "       440.        , 440.        , 181.01933598, 362.03867197,\n",
       "       440.        , 456.        , 181.01933598, 362.03867197,\n",
       "       440.        , 472.        , 181.01933598, 362.03867197,\n",
       "       456.        , 376.        , 181.01933598, 362.03867197,\n",
       "       456.        , 392.        , 181.01933598, 362.03867197,\n",
       "       456.        , 408.        , 181.01933598, 362.03867197,\n",
       "       456.        , 424.        , 181.01933598, 362.03867197,\n",
       "       456.        , 440.        , 181.01933598, 362.03867197,\n",
       "       456.        , 456.        , 181.01933598, 362.03867197,\n",
       "       456.        , 472.        , 181.01933598, 362.03867197,\n",
       "       472.        , 376.        , 181.01933598, 362.03867197,\n",
       "       472.        , 392.        , 181.01933598, 362.03867197,\n",
       "       472.        , 408.        , 181.01933598, 362.03867197,\n",
       "       472.        , 424.        , 181.01933598, 362.03867197,\n",
       "       472.        , 440.        , 181.01933598, 362.03867197,\n",
       "       472.        , 456.        , 181.01933598, 362.03867197,\n",
       "       472.        , 472.        , 181.01933598, 362.03867197])"
      ]
     },
     "execution_count": 509,
     "metadata": {},
     "output_type": "execute_result"
    }
   ],
   "source": [
    "reg_label[i][indices]"
   ]
  },
  {
   "cell_type": "code",
   "execution_count": 499,
   "id": "blind-interval",
   "metadata": {},
   "outputs": [],
   "source": [
    "x, y, w, h = GT[i][0], GT[i][1], GT[i][2], GT[i][3]"
   ]
  },
  {
   "cell_type": "code",
   "execution_count": 502,
   "id": "conservative-match",
   "metadata": {},
   "outputs": [],
   "source": [
    "tx = (x - reg_label[i][indices][0]) / (reg_label[i][indices][2])\n",
    "ty = (y - reg_label[i][indices][1]) / (reg_label[i][indices][3])\n",
    "tw = np.log(w / reg_label[i][indices][2]) \n",
    "th = np.log(h / reg_label[i][indices][3]) "
   ]
  },
  {
   "cell_type": "code",
   "execution_count": 503,
   "id": "sapphire-concord",
   "metadata": {},
   "outputs": [
    {
     "data": {
      "text/plain": [
       "array([ 0.16296602,  0.12964085, -0.50542279,  0.18145478])"
      ]
     },
     "execution_count": 503,
     "metadata": {},
     "output_type": "execute_result"
    }
   ],
   "source": [
    "np.stack([tx, ty, tw, th])"
   ]
  },
  {
   "cell_type": "code",
   "execution_count": 489,
   "id": "enhanced-spanking",
   "metadata": {},
   "outputs": [
    {
     "data": {
      "text/plain": [
       "array([ 0.23754368,  0.08202162, -0.7122172 ,  0.22367741])"
      ]
     },
     "execution_count": 489,
     "metadata": {},
     "output_type": "execute_result"
    }
   ],
   "source": [
    "reg_label[i][indices]"
   ]
  },
  {
   "cell_type": "code",
   "execution_count": 441,
   "id": "injured-commercial",
   "metadata": {},
   "outputs": [],
   "source": [
    "x = GT[ii][0]\n",
    "y = GT[ii][1]\n",
    "w = GT[ii][2]\n",
    "h = GT[ii][3]"
   ]
  },
  {
   "cell_type": "code",
   "execution_count": 442,
   "id": "current-brass",
   "metadata": {},
   "outputs": [],
   "source": [
    "tx = (x - reg_label[ii][idc][0]) / (reg_label[ii][idc][2])\n",
    "ty = (y - reg_label[ii][idc][1]) / (reg_label[ii][idc][3])\n",
    "tw = np.log(w / reg_label[ii][idc][2]) \n",
    "th = np.log(h / reg_label[ii][idc][3]) "
   ]
  },
  {
   "cell_type": "code",
   "execution_count": 443,
   "id": "indirect-spectrum",
   "metadata": {},
   "outputs": [
    {
     "data": {
      "text/plain": [
       "0.23754368430485584"
      ]
     },
     "execution_count": 443,
     "metadata": {},
     "output_type": "execute_result"
    }
   ],
   "source": [
    "tx"
   ]
  },
  {
   "cell_type": "code",
   "execution_count": 444,
   "id": "intensive-material",
   "metadata": {},
   "outputs": [
    {
     "data": {
      "text/plain": [
       "array([ 0.23754368,  0.08202162, -0.7122172 ,  0.22367741])"
      ]
     },
     "execution_count": 444,
     "metadata": {},
     "output_type": "execute_result"
    }
   ],
   "source": [
    "np.stack([tx, ty, tw, th])"
   ]
  },
  {
   "cell_type": "code",
   "execution_count": 352,
   "id": "aggregate-screw",
   "metadata": {},
   "outputs": [],
   "source": [
    "reg_label[0][idc] = np.stack([tx, ty, tw, th])"
   ]
  },
  {
   "cell_type": "code",
   "execution_count": null,
   "id": "rocky-trailer",
   "metadata": {},
   "outputs": [],
   "source": []
  },
  {
   "cell_type": "code",
   "execution_count": null,
   "id": "approved-great",
   "metadata": {},
   "outputs": [],
   "source": []
  },
  {
   "cell_type": "code",
   "execution_count": null,
   "id": "paperback-guatemala",
   "metadata": {},
   "outputs": [],
   "source": []
  },
  {
   "cell_type": "code",
   "execution_count": 298,
   "id": "confirmed-circumstances",
   "metadata": {},
   "outputs": [
    {
     "data": {
      "text/plain": [
       "(array([0, 1, 2, 3, 4, 5, 6, 7, 8, 9], dtype=int64),\n",
       " array([11019, 11469, 11469, 11469, 11019, 11934, 11469, 12384, 11019,\n",
       "        11469], dtype=int64))"
      ]
     },
     "execution_count": 298,
     "metadata": {},
     "output_type": "execute_result"
    }
   ],
   "source": [
    "np.where(indices == True)"
   ]
  },
  {
   "cell_type": "code",
   "execution_count": 31,
   "id": "preceding-twins",
   "metadata": {},
   "outputs": [],
   "source": [
    "# index_inside = np.where(\n",
    "#     (anchor_boxes[:, 0] - anchor_boxes[:, 2]/2 >= 0) &\n",
    "#     (anchor_boxes[:, 0] + anchor_boxes[:, 2]/2 <= image.shape[1]) &\n",
    "#     (anchor_boxes[:, 1] - anchor_boxes[:, 3]/2 >= 0) &\n",
    "#     (anchor_boxes[:, 1] + anchor_boxes[:, 3]/2 <= image.shape[0]),\n",
    "# )[0]\n",
    "\n",
    "# valid_anchor_boxes = anchor_boxes[index_inside]\n",
    "\n",
    "# valid_anchor_boxes"
   ]
  },
  {
   "cell_type": "markdown",
   "id": "built-auditor",
   "metadata": {
    "code_folding": []
   },
   "source": [
    "### Region Proposal Network"
   ]
  },
  {
   "cell_type": "code",
   "execution_count": 238,
   "id": "consistent-nylon",
   "metadata": {},
   "outputs": [],
   "source": [
    "class RPN(tf.keras.models.Model):\n",
    "    def __init__(self, img_size, anchor_boxes, k=9, backbone='vgg',**kwargs):\n",
    "        super(RPN, self).__init__(**kwargs)\n",
    "        self.backbone = backbone\n",
    "        self.img_size = img_size\n",
    "        self.anchor_boxes = anchor_boxes\n",
    "        self.k = k\n",
    "        self.base_model = get_base(self.img_size, model=self.backbone)\n",
    "        self.window = tf.keras.layers.Conv2D(filters=256, kernel_size=3, strides=1, padding='same')\n",
    "        self.bbox_reg = tf.keras.layers.Conv2D(filters=self.k*4, kernel_size=1, activation='relu')\n",
    "        self.bbox_reg_reshape = tf.keras.layers.Reshape((-1, 4), name='reg_out')\n",
    "        self.cls = tf.keras.layers.Conv2D(filters=self.k, kernel_size=1, activation='sigmoid')\n",
    "        self.cls_reshape = tf.keras.layers.Reshape((-1, 1), name='cls_out')\n",
    "    \n",
    "    @tf.function\n",
    "    def boundingbox_regression(self, gt_pred):\n",
    "        pass\n",
    "    \n",
    "#     # 256개 sampling\n",
    "#     def positive_label_selector(self, label):\n",
    "#         pass\n",
    "    \n",
    "    \n",
    "    def compile(self, optimizer):\n",
    "        super(RPN, self).compile()\n",
    "        self.optimizer = optimizer\n",
    "        self.loss_tracker = tf.keras.metrics.Mean(name='loss')\n",
    "    \n",
    "    def Cls_Loss(self, y_true, y_pred):\n",
    "        indices = tf.where(tf.not_equal(y_true, tf.constant(-1.0, dtype=tf.float64)))\n",
    "        target = tf.gather_nd(y_true, indices)\n",
    "        output = tf.gather_nd(y_pred, indices)\n",
    "        return tf.losses.BinaryCrossentropy()(target, output)\n",
    "\n",
    "    def Reg_Loss(self, y_true, y_pred):\n",
    "        indices = tf.reduce_any(tf.not_equal(y_true, 0), axis=-1)\n",
    "        loss_fn = tf.losses.Huber(reduction=tf.losses.Reduction.NONE)\n",
    "        loss_for_all = loss_fn(y_true[indices], y_pred[indices])\n",
    "        loss_for_all = tf.reduce_mean(loss_for_all, axis=-1)\n",
    "        return loss_for_all\n",
    "    \n",
    "    def train_step(self, data):\n",
    "        x, y = data\n",
    "        y_cls = y[0]\n",
    "        y_reg = y[1]\n",
    "        rpn_lambda = 10\n",
    "        \n",
    "        with tf.GradientTape() as tape:\n",
    "            cls, bbox_reg = self(x, training=True)\n",
    "            cls_loss = self.Cls_Loss(y_cls, cls)\n",
    "            reg_loss = self.Reg_Loss(y_reg, bbox_reg)\n",
    "            losses = cls_loss + rpn_lambda * reg_loss\n",
    "            \n",
    "        trainable_vars = self.trainable_variables\n",
    "        grad = tape.gradient(losses, trainable_vars)\n",
    "        self.optimizer.apply_gradients(zip(grad, trainable_vars))\n",
    "        self.loss_tracker.update_state(losses)\n",
    "        return {'rpn_loss': self.loss_tracker.result()}\n",
    "\n",
    "    def call(self, inputs):\n",
    "        feature_extractor = self.base_model(inputs)\n",
    "        intermediate = self.window(feature_extractor)\n",
    "        cls_ = self.cls(intermediate)\n",
    "        cls = self.cls_reshape(cls_)\n",
    "        bbox_reg_ = self.bbox_reg(intermediate)\n",
    "        bbox_reg = self.bbox_reg_reshape(bbox_reg_)\n",
    "        return cls, bbox_reg"
   ]
  },
  {
   "cell_type": "code",
   "execution_count": 33,
   "id": "handy-array",
   "metadata": {},
   "outputs": [],
   "source": [
    "tf.keras.backend.clear_session()\n",
    "rpn = RPN(img_size=image.shape, k=9, backbone='vgg')\n",
    "cls, bounding = rpn(inputs)"
   ]
  },
  {
   "cell_type": "code",
   "execution_count": 34,
   "id": "technological-mistake",
   "metadata": {},
   "outputs": [],
   "source": [
    "rpn.compile(\n",
    "    optimizer=tf.keras.optimizers.Adam(learning_rate=0.001)\n",
    ")"
   ]
  },
  {
   "cell_type": "code",
   "execution_count": 35,
   "id": "aggressive-dynamics",
   "metadata": {
    "scrolled": false
   },
   "outputs": [
    {
     "name": "stdout",
     "output_type": "stream",
     "text": [
      "1/1 [==============================] - 0s 2ms/step - rpn_loss: 37.4109\n"
     ]
    },
    {
     "data": {
      "text/plain": [
       "<tensorflow.python.keras.callbacks.History at 0x25d8a992dc8>"
      ]
     },
     "execution_count": 35,
     "metadata": {},
     "output_type": "execute_result"
    }
   ],
   "source": [
    "rpn.fit(\n",
    "    x=tf.expand_dims(image, 0), \n",
    "    y=(tf.expand_dims(cls_label[0], 0), tf.expand_dims(reg_label[0], 0))\n",
    ")"
   ]
  },
  {
   "cell_type": "code",
   "execution_count": 47,
   "id": "active-breed",
   "metadata": {},
   "outputs": [],
   "source": [
    "score, rp = rpn(tf.expand_dims(image, 0))"
   ]
  },
  {
   "cell_type": "code",
   "execution_count": 37,
   "id": "becoming-technique",
   "metadata": {},
   "outputs": [],
   "source": [
    "score = tf.squeeze(score, 0)\n",
    "score = tf.squeeze(score, -1)"
   ]
  },
  {
   "cell_type": "code",
   "execution_count": 38,
   "id": "effective-oliver",
   "metadata": {},
   "outputs": [],
   "source": [
    "rp = tf.squeeze(rp, 0)"
   ]
  },
  {
   "cell_type": "code",
   "execution_count": 78,
   "id": "covered-unemployment",
   "metadata": {},
   "outputs": [
    {
     "data": {
      "text/plain": [
       "<tf.Tensor: shape=(1, 22500, 4), dtype=float32, numpy=\n",
       "array([[[ 27.072367, -17.757364,  46.20609 ,  56.99929 ],\n",
       "        [  9.043662, -68.60224 ,  23.83387 , -48.317142],\n",
       "        [-47.323994, -65.72677 ,   8.107268,  14.995268],\n",
       "        ...,\n",
       "        [-66.37635 , -16.582926, -31.908205, -57.88652 ],\n",
       "        [-43.274048,  25.766932, -27.276676,  29.072243],\n",
       "        [-11.111572, -56.162544,  41.466   , -37.205826]]], dtype=float32)>"
      ]
     },
     "execution_count": 78,
     "metadata": {},
     "output_type": "execute_result"
    }
   ],
   "source": [
    "rp"
   ]
  },
  {
   "cell_type": "code",
   "execution_count": null,
   "id": "flying-slovak",
   "metadata": {},
   "outputs": [],
   "source": []
  },
  {
   "cell_type": "code",
   "execution_count": 76,
   "id": "upset-ownership",
   "metadata": {},
   "outputs": [],
   "source": [
    "x = rp[:, :, 0]\n",
    "y = rp[:, :, 1]\n",
    "w = rp[:, :, 2]\n",
    "h = rp[:, :, 3]"
   ]
  },
  {
   "cell_type": "code",
   "execution_count": 77,
   "id": "hazardous-roller",
   "metadata": {},
   "outputs": [
    {
     "data": {
      "text/plain": [
       "<tf.Tensor: shape=(1, 22500), dtype=float32, numpy=\n",
       "array([[ 27.072367,   9.043662, -47.323994, ..., -66.37635 , -43.274048,\n",
       "        -11.111572]], dtype=float32)>"
      ]
     },
     "execution_count": 77,
     "metadata": {},
     "output_type": "execute_result"
    }
   ],
   "source": [
    "x"
   ]
  },
  {
   "cell_type": "code",
   "execution_count": 81,
   "id": "micro-scale",
   "metadata": {},
   "outputs": [
    {
     "data": {
      "text/plain": [
       "<tf.Tensor: shape=(1, 22500), dtype=float64, numpy=array([[0., 0., 0., ..., 0., 0., 0.]])>"
      ]
     },
     "execution_count": 81,
     "metadata": {},
     "output_type": "execute_result"
    }
   ],
   "source": [
    "xa = tf.expand_dims(reg_label[0], 0)[:, :, 0]"
   ]
  },
  {
   "cell_type": "code",
   "execution_count": null,
   "id": "chief-grocery",
   "metadata": {},
   "outputs": [],
   "source": []
  },
  {
   "cell_type": "code",
   "execution_count": null,
   "id": "headed-knock",
   "metadata": {},
   "outputs": [],
   "source": []
  },
  {
   "cell_type": "code",
   "execution_count": null,
   "id": "measured-strength",
   "metadata": {},
   "outputs": [],
   "source": []
  },
  {
   "cell_type": "code",
   "execution_count": null,
   "id": "personalized-supplement",
   "metadata": {},
   "outputs": [],
   "source": []
  },
  {
   "cell_type": "code",
   "execution_count": 44,
   "id": "russian-prisoner",
   "metadata": {},
   "outputs": [],
   "source": [
    "selected_indices = tf.image.non_max_suppression(rp, score, max_output_size=128, score_threshold=0.01)\n",
    "rpbox = tf.gather(rp, selected_indices)"
   ]
  },
  {
   "cell_type": "code",
   "execution_count": 45,
   "id": "aquatic-savings",
   "metadata": {},
   "outputs": [
    {
     "data": {
      "text/plain": [
       "<tf.Tensor: shape=(128, 4), dtype=float32, numpy=\n",
       "array([[-1.53232965e+01,  1.85822353e+01, -6.47718735e+01,\n",
       "         3.01725159e+01],\n",
       "       [ 4.49958992e+00,  1.61456413e+01,  1.20101337e+01,\n",
       "        -2.58533592e+01],\n",
       "       [ 5.27767992e+00,  2.28491039e+01,  9.12208557e+00,\n",
       "        -1.71123066e+01],\n",
       "       [-6.59737885e-01,  1.40798702e+01,  8.64930725e+00,\n",
       "        -2.41604137e+01],\n",
       "       [ 8.02763224e-01,  2.25022888e+01,  5.21410036e+00,\n",
       "        -1.14673538e+01],\n",
       "       [ 4.57173347e+00,  2.12132034e+01,  1.06718044e+01,\n",
       "        -1.56425714e+00],\n",
       "       [-4.58380604e+00,  1.25502472e+01,  4.99760437e+00,\n",
       "        -1.61065998e+01],\n",
       "       [-2.20352411e+00,  2.22810440e+01,  1.22726977e+00,\n",
       "         1.36037910e+00],\n",
       "       [ 5.03216696e+00,  2.12393665e+01,  6.82959270e+00,\n",
       "         1.11996050e+01],\n",
       "       [-3.98395920e+00,  2.25362444e+00,  9.38191891e+00,\n",
       "        -1.06109552e+01],\n",
       "       [-1.00711288e+01,  1.14771023e+01,  4.24704170e+00,\n",
       "        -1.60390425e+00],\n",
       "       [-7.67521572e+00,  2.05736904e+01,  2.00816464e+00,\n",
       "         1.58996773e+01],\n",
       "       [ 1.49769583e+01,  3.27870522e+01,  1.57478046e+01,\n",
       "        -2.87347660e+01],\n",
       "       [ 1.43516521e+01,  3.20005531e+01,  1.25620708e+01,\n",
       "        -2.21773319e+01],\n",
       "       [ 1.11759720e+01,  2.82096081e+01,  9.12130260e+00,\n",
       "        -1.09886122e+01],\n",
       "       [ 1.17719536e+01,  3.14650803e+01,  7.96623802e+00,\n",
       "         6.53514099e+00],\n",
       "       [ 1.29922800e+01,  1.76311970e+01,  1.40874834e+01,\n",
       "        -2.59775600e+01],\n",
       "       [ 1.08406582e+01,  1.70489731e+01,  1.38175201e+01,\n",
       "        -2.18165836e+01],\n",
       "       [ 7.02820301e+00,  1.73767872e+01,  1.12464361e+01,\n",
       "        -1.21877947e+01],\n",
       "       [ 7.03044891e+00,  1.99145164e+01,  4.47741604e+00,\n",
       "        -1.32779236e+01],\n",
       "       [ 2.41549945e+00,  3.02813931e+01, -6.42938375e-01,\n",
       "        -2.06471491e+00],\n",
       "       [-1.01227808e+01,  1.16190662e+01,  4.78293180e+00,\n",
       "         1.09094477e+01],\n",
       "       [ 8.63271713e-01,  1.71053696e+01,  1.96866474e+01,\n",
       "        -1.64841022e+01],\n",
       "       [ 1.60359993e+01,  2.58231983e+01, -3.44470749e+01,\n",
       "        -2.96162949e+01],\n",
       "       [ 1.39738858e+00,  3.54797149e+00,  1.10309801e+01,\n",
       "        -2.09815922e+01],\n",
       "       [ 1.51973715e+01,  3.06128273e+01,  1.77536659e+01,\n",
       "        -3.23463287e+01],\n",
       "       [ 9.29208374e+00,  2.57333241e+01,  1.02763653e+01,\n",
       "        -1.10107622e+01],\n",
       "       [ 2.20053148e+00,  2.55958328e+01,  2.10243702e+00,\n",
       "        -5.89276075e+00],\n",
       "       [ 5.97021103e+00,  4.84823370e+00,  1.39198952e+01,\n",
       "        -2.47216873e+01],\n",
       "       [ 1.45354958e+01,  1.56958723e+01,  1.47173910e+01,\n",
       "        -3.32706604e+01],\n",
       "       [-1.96717680e+00,  2.24539127e+01,  1.64344749e+01,\n",
       "         7.09262848e+00],\n",
       "       [-5.25857544e+00,  1.03096199e+00,  8.76299095e+00,\n",
       "         1.75749969e+00],\n",
       "       [-2.32595501e+01,  9.45160198e+00, -5.25738602e+01,\n",
       "         2.21906967e+01],\n",
       "       [ 2.36989136e+01,  3.65961571e+01,  1.14070950e+01,\n",
       "        -1.07422819e+01],\n",
       "       [ 1.67000771e+01,  2.45806351e+01,  2.19813366e+01,\n",
       "        -3.39839935e+01],\n",
       "       [ 1.57258463e+01,  2.31962471e+01,  1.02044773e+01,\n",
       "        -2.45639057e+01],\n",
       "       [ 9.17620564e+00,  1.86823559e+01,  6.90824461e+00,\n",
       "        -3.16355848e+00],\n",
       "       [ 1.07556629e+00,  1.99933090e+01,  7.27750587e+00,\n",
       "         2.06921520e+01],\n",
       "       [ 1.98081112e+01,  2.97443409e+01,  2.13273239e+01,\n",
       "        -1.27088528e+01],\n",
       "       [ 1.58354797e+01,  1.07645645e+01,  1.62440624e+01,\n",
       "        -4.05015488e+01],\n",
       "       [ 6.94338560e+00,  1.61747894e+01,  9.50204849e+00,\n",
       "        -2.01070366e+01],\n",
       "       [ 5.89711857e+00,  1.02347755e+01,  1.74602814e+01,\n",
       "        -3.20882607e+01],\n",
       "       [ 1.87065182e+01,  2.35773087e+01,  2.88450642e+01,\n",
       "        -2.77971153e+01],\n",
       "       [-4.11138582e+00,  2.25880489e+01,  2.97876143e+00,\n",
       "         2.44929066e+01],\n",
       "       [ 5.33096409e+00,  3.35857697e+01,  4.52882624e+00,\n",
       "        -2.31491542e+00],\n",
       "       [ 8.59073639e+00,  2.01930351e+01,  9.23189449e+00,\n",
       "        -1.76724682e+01],\n",
       "       [ 7.18953133e+00,  1.42254562e+01,  8.25974345e-01,\n",
       "        -7.21772194e+00],\n",
       "       [ 8.61560345e+00,  1.85526810e+01,  7.85924435e+00,\n",
       "        -2.62175922e+01],\n",
       "       [ 9.09911633e+00,  1.42513618e+01,  1.26535892e+01,\n",
       "        -2.75664406e+01],\n",
       "       [ 8.00969791e+00,  2.09447575e+01,  1.05993776e+01,\n",
       "        -2.03701458e+01],\n",
       "       [ 8.29438877e+00,  3.93596230e+01,  2.92965555e+00,\n",
       "         1.36137629e+01],\n",
       "       [ 1.14950914e+01,  1.26023474e+01,  2.22660866e+01,\n",
       "        -2.26407356e+01],\n",
       "       [ 5.94996475e-03,  2.90318317e+01, -7.20844498e+01,\n",
       "         4.13314896e+01],\n",
       "       [ 1.36307821e+01,  1.44666548e+01,  1.38405495e+01,\n",
       "        -2.78141899e+01],\n",
       "       [ 9.09987545e+00,  3.59053154e+01,  1.63421905e+00,\n",
       "        -5.44682741e+00],\n",
       "       [ 1.59040117e+01,  1.10336151e+01,  1.66967106e+01,\n",
       "        -3.00972424e+01],\n",
       "       [ 2.25263691e+00,  2.03120003e+01,  1.02712765e+01,\n",
       "        -1.30822220e+01],\n",
       "       [-1.42514515e+00,  2.77705555e+01,  1.18690519e+01,\n",
       "        -9.06808281e+00],\n",
       "       [ 7.73114061e+00,  1.28307371e+01,  1.52874126e+01,\n",
       "         1.19212162e+00],\n",
       "       [ 1.10098906e+01,  1.16168079e+01,  1.30233660e+01,\n",
       "         9.11011219e+00],\n",
       "       [-3.37435961e+00,  1.87844162e+01,  8.11049557e+00,\n",
       "        -4.59432268e+00],\n",
       "       [ 2.04514065e+01,  3.26900063e+01,  6.34983301e+00,\n",
       "         1.32323895e+01],\n",
       "       [-5.68170786e+00,  3.54311256e+01,  9.30678272e+00,\n",
       "        -1.29896917e+01],\n",
       "       [ 9.96418762e+00,  1.07236099e+01,  5.38182068e+00,\n",
       "         1.26079702e+00],\n",
       "       [ 8.34037781e+00,  1.71801300e+01,  9.99000740e+00,\n",
       "        -1.47643499e+01],\n",
       "       [ 9.81121635e+00,  2.04007072e+01,  1.13703585e+01,\n",
       "        -1.33701649e+01],\n",
       "       [ 1.42647886e+01,  2.19886017e+01,  1.97719975e+01,\n",
       "        -2.18596992e+01],\n",
       "       [ 1.78889427e+01,  1.99123287e+01,  1.87946758e+01,\n",
       "        -2.54252357e+01],\n",
       "       [ 1.03928871e+01,  2.39257679e+01,  1.17306347e+01,\n",
       "        -1.18920860e+01],\n",
       "       [ 1.01756544e+01,  1.06403971e+01,  1.75685883e+01,\n",
       "        -1.86156237e+00],\n",
       "       [ 1.37650430e+00,  1.72099876e+01,  7.11509275e+00,\n",
       "         1.20677395e+01],\n",
       "       [ 1.42218781e+01,  4.26072006e+01,  3.80305767e+00,\n",
       "         2.42924480e+01],\n",
       "       [ 4.04923153e+00,  1.59970446e+01,  6.25201416e+00,\n",
       "        -6.10023832e+00],\n",
       "       [ 1.37196598e+01,  9.65818501e+00,  1.54508286e+01,\n",
       "         2.52110386e+00],\n",
       "       [-3.63717246e+00,  1.17786856e+01,  2.60056171e+01,\n",
       "        -2.98607206e+00],\n",
       "       [ 1.04698591e+01,  2.71000557e+01,  1.48497820e+01,\n",
       "        -3.83209324e+00],\n",
       "       [ 2.18869858e+01,  2.44964943e+01,  2.85528316e+01,\n",
       "        -8.77580357e+00],\n",
       "       [-2.67626550e-02,  9.94392490e+00,  1.12994890e+01,\n",
       "        -1.00157642e+01],\n",
       "       [ 1.12280684e+01,  8.21089172e+00,  1.31283255e+01,\n",
       "        -2.18351421e+01],\n",
       "       [ 8.40984440e+00,  2.93870850e+01,  1.44755487e+01,\n",
       "         1.62127018e+01],\n",
       "       [ 6.70957565e+00,  2.56413212e+01,  8.12981319e+00,\n",
       "         2.39636116e+01],\n",
       "       [ 1.00435247e+01,  1.35758991e+01,  1.09033794e+01,\n",
       "        -2.41044006e+01],\n",
       "       [ 1.05767117e+01,  1.35078011e+01,  9.81473064e+00,\n",
       "        -9.13275242e+00],\n",
       "       [ 8.57950687e+00,  1.82085114e+01,  9.18430042e+00,\n",
       "         1.15807080e+00],\n",
       "       [ 9.15110016e+00,  1.66391659e+01,  1.62073574e+01,\n",
       "        -3.47926593e+00],\n",
       "       [ 1.74534760e+01,  1.28516312e+01,  2.29526443e+01,\n",
       "        -1.45757942e+01],\n",
       "       [ 1.13936949e+01,  1.66194324e+01,  1.21975355e+01,\n",
       "        -2.00514984e+00],\n",
       "       [-2.31036968e+01,  1.27468958e+01, -5.22808380e+01,\n",
       "         1.42141886e+01],\n",
       "       [ 5.72326183e+00,  3.44986038e+01,  4.01609087e+00,\n",
       "         2.09378195e+00],\n",
       "       [ 1.09027338e+01,  2.57022929e+00,  1.31055069e+01,\n",
       "        -1.09984150e+01],\n",
       "       [ 2.96068325e+01,  3.81851921e+01,  1.43079319e+01,\n",
       "         9.46101785e-01],\n",
       "       [ 8.90484047e+00,  2.97435760e+01,  4.09978485e+00,\n",
       "         1.77562256e+01],\n",
       "       [ 2.09954853e+01,  3.94646797e+01,  1.29621143e+01,\n",
       "         3.36169314e+00],\n",
       "       [ 6.58526087e+00,  3.26168900e+01,  1.31521282e+01,\n",
       "         3.52055883e+00],\n",
       "       [ 1.02137108e+01,  1.29670734e+01,  1.34152069e+01,\n",
       "         1.36374626e+01],\n",
       "       [ 8.41646099e+00,  2.82363567e+01,  1.17323980e+01,\n",
       "        -2.14580345e+01],\n",
       "       [ 5.42552853e+00,  1.68768013e+00,  1.79203949e+01,\n",
       "        -9.09184265e+00],\n",
       "       [ 1.47258320e+01,  2.35298405e+01,  2.49698277e+01,\n",
       "        -1.97179508e+01],\n",
       "       [ 1.07973614e+01,  1.69394951e+01,  1.28652563e+01,\n",
       "        -7.02711058e+00],\n",
       "       [ 1.42581015e+01,  6.03075743e+00,  1.67186909e+01,\n",
       "        -2.51210594e+01],\n",
       "       [ 1.72203846e+01,  3.57243843e+01,  1.51120358e+01,\n",
       "         3.71121359e+00],\n",
       "       [ 1.39519110e+01,  3.70722275e+01,  1.20864887e+01,\n",
       "         2.09327850e+01],\n",
       "       [ 2.87053919e+00,  7.60409355e+00,  9.63562584e+00,\n",
       "         9.27785015e+00],\n",
       "       [ 1.35906649e+01,  2.30730400e+01,  1.58705435e+01,\n",
       "        -2.19188519e+01],\n",
       "       [ 1.21341944e+01,  1.91180267e+01,  1.57546511e+01,\n",
       "        -1.70303905e+00],\n",
       "       [ 1.01874294e+01,  8.48270226e+00,  8.02452374e+00,\n",
       "         3.75644517e+00],\n",
       "       [ 1.43431902e+01,  2.51007919e+01,  1.15035458e+01,\n",
       "        -3.98640823e+01],\n",
       "       [ 1.28692131e+01,  1.62924690e+01,  1.06738605e+01,\n",
       "        -3.92533836e+01],\n",
       "       [ 1.40363131e+01,  1.34395590e+01,  1.69076118e+01,\n",
       "         2.20413160e+00],\n",
       "       [ 2.04957638e+01,  7.76646042e+00,  9.54829597e+00,\n",
       "        -9.10288525e+00],\n",
       "       [ 1.39635162e+01,  1.19356623e+01,  1.62777081e+01,\n",
       "        -1.52038097e+01],\n",
       "       [ 1.72657833e+01,  1.40879927e+01,  1.09551296e+01,\n",
       "        -9.49244881e+00],\n",
       "       [ 1.67958107e+01,  2.04750309e+01,  1.51978073e+01,\n",
       "         5.50959778e+00],\n",
       "       [ 1.24981022e+01,  2.36332941e+00,  1.84922390e+01,\n",
       "        -2.63518467e+01],\n",
       "       [ 1.12887402e+01,  1.38499756e+01,  1.44266644e+01,\n",
       "        -6.38634634e+00],\n",
       "       [ 7.44262314e+00,  1.93699133e+00,  1.64935188e+01,\n",
       "        -2.04370618e+00],\n",
       "       [-2.48141479e+00,  3.23406525e+01,  1.12329292e+01,\n",
       "         1.46585140e+01],\n",
       "       [-2.91852504e-01,  1.34130163e+01,  2.39191837e+01,\n",
       "         7.02282238e+00],\n",
       "       [ 2.47922373e+00,  3.26794357e+01,  6.10013103e+00,\n",
       "        -1.25335082e-01],\n",
       "       [ 6.05774260e+00,  2.54583607e+01,  1.84568443e+01,\n",
       "         1.14333687e+01],\n",
       "       [ 1.24617605e+01,  2.68447342e+01,  1.28204336e+01,\n",
       "        -2.70260620e+00],\n",
       "       [ 1.52857695e+01,  1.13426294e+01,  1.35151711e+01,\n",
       "        -2.94756641e+01],\n",
       "       [ 1.97219105e+01,  9.86467838e-01,  1.33752651e+01,\n",
       "        -8.83485031e+00],\n",
       "       [ 5.99915886e+00,  4.66956758e+00,  8.89601994e+00,\n",
       "        -2.79164982e+00],\n",
       "       [ 4.42037868e+00,  2.19827442e+01,  2.30054970e+01,\n",
       "         2.59698081e+00],\n",
       "       [ 1.38079557e+01,  2.09296284e+01,  1.41199141e+01,\n",
       "         3.45896196e+00],\n",
       "       [ 1.87391720e+01,  3.39399071e+01,  2.16321487e+01,\n",
       "         3.14846277e-01],\n",
       "       [ 1.37646151e+01,  2.65048218e+01,  1.19773178e+01,\n",
       "        -3.26898837e+00]], dtype=float32)>"
      ]
     },
     "execution_count": 45,
     "metadata": {},
     "output_type": "execute_result"
    }
   ],
   "source": [
    "rpbox"
   ]
  },
  {
   "cell_type": "code",
   "execution_count": 219,
   "id": "identified-norwegian",
   "metadata": {},
   "outputs": [],
   "source": [
    "def draw_nms(ground_truth_row, anchor_boxes, score, max_output_size=5):\n",
    "    colors = {k: tuple(map(int, np.random.randint(0, 255, 3))) for k in range(max_output_size)}\n",
    "    x1 = int(ground_truth_row['x_min'])\n",
    "    x2 = int(ground_truth_row['x_max'])\n",
    "    y1 = int(ground_truth_row['y_min'])\n",
    "    y2 = int(ground_truth_row['y_max'])\n",
    "    \n",
    "    image = cv2.imread(f'./res/train_imgs/{ground_truth_row[\"image\"]}', cv2.COLOR_BGR2RGB)\n",
    "    image = cv2.resize(image, (800, 800))\n",
    "    cv2.rectangle(image, (x1, y1), (x2, y2), (255, 0, 0), thickness=2)\n",
    "\n",
    "    GT = ground_truth_row[['x', 'y', 'w', 'h']]\n",
    "    \n",
    "    selected_indices = tf.image.non_max_suppression(anchor_boxes, score, max_output_size=max_output_size, score_threshold=0.01)\n",
    "    anchor_boxes = tf.gather(anchor_boxes, selected_indices)\n",
    "    \n",
    "    for i, anchor_box in enumerate(anchor_boxes):\n",
    "        anchor_box = anchor_to_coordinate(anchor_box.numpy())\n",
    "        cv2.rectangle(\n",
    "            image, \n",
    "            (int(anchor_box[0]), int(anchor_box[2])), (int(anchor_box[1]), int(anchor_box[3])), \n",
    "            colors.get(i), \n",
    "            thickness=2\n",
    "        )\n",
    "\n",
    "    fig, ax = plt.subplots(dpi=200)\n",
    "    ax.imshow(image)\n",
    "    ax.axis('off')\n",
    "    plt.show()"
   ]
  },
  {
   "cell_type": "code",
   "execution_count": 510,
   "id": "documented-funds",
   "metadata": {},
   "outputs": [],
   "source": [
    "# draw_nms(ground_truth.iloc[0], rp, score, max_output_size=10000)"
   ]
  },
  {
   "cell_type": "markdown",
   "id": "sexual-cancellation",
   "metadata": {},
   "source": [
    "## Detector"
   ]
  },
  {
   "cell_type": "markdown",
   "id": "sunrise-nirvana",
   "metadata": {},
   "source": [
    "### Non-Maximum Suppression"
   ]
  },
  {
   "cell_type": "code",
   "execution_count": 452,
   "id": "informative-logging",
   "metadata": {},
   "outputs": [
    {
     "data": {
      "text/plain": [
       "(50, 44210)"
      ]
     },
     "execution_count": 452,
     "metadata": {},
     "output_type": "execute_result"
    }
   ],
   "source": [
    "ious.shape"
   ]
  },
  {
   "cell_type": "code",
   "execution_count": 118,
   "id": "accurate-interpretation",
   "metadata": {},
   "outputs": [],
   "source": [
    "iou = []\n",
    "qq = np.array(GT)[0]\n",
    "for box in valid_anchor_boxes:\n",
    "    iou.append(IoU(qq, box))\n",
    "iou = np.array(iou)"
   ]
  },
  {
   "cell_type": "code",
   "execution_count": 123,
   "id": "advisory-image",
   "metadata": {},
   "outputs": [
    {
     "data": {
      "text/plain": [
       "array([1045.  ,  569.17,  213.6 ,  610.74])"
      ]
     },
     "execution_count": 123,
     "metadata": {},
     "output_type": "execute_result"
    }
   ],
   "source": [
    "np.array(GT)[0]"
   ]
  },
  {
   "cell_type": "code",
   "execution_count": 119,
   "id": "exciting-runner",
   "metadata": {},
   "outputs": [],
   "source": [
    "selected_indices = tf.image.non_max_suppression(valid_anchor_boxes, iou, max_output_size=128, score_threshold=0.01)\n",
    "# tf.gather(valid_anchor_boxes, selected_indices)"
   ]
  },
  {
   "cell_type": "code",
   "execution_count": 120,
   "id": "velvet-moderator",
   "metadata": {},
   "outputs": [
    {
     "name": "stdout",
     "output_type": "stream",
     "text": [
      "0.5086602644910649, \t[1032.          456.          181.01933598  362.03867197]0.5086602644910649\n",
      "0.5086602644910649, \t[1032.          552.          181.01933598  362.03867197]0.5086602644910649\n",
      "0.5023728653744052, \t[984.         520.         362.03867197 724.07734394]0.5023728653744052\n",
      "0.5023728653744052, \t[1064.          616.          362.03867197  724.07734394]0.5023728653744052\n",
      "0.4567209359713382, \t[984.         664.         362.03867197 724.07734394]0.4567209359713382\n"
     ]
    }
   ],
   "source": [
    "for i, j in zip(iou[np.array(selected_indices)][:5], tf.gather(valid_anchor_boxes, selected_indices)[:5]):\n",
    "    print(f'{i}, \\t{j}{i}')"
   ]
  },
  {
   "cell_type": "code",
   "execution_count": 115,
   "id": "promotional-turkey",
   "metadata": {},
   "outputs": [],
   "source": [
    "def draw_nms(ground_truth_row, anchor_boxes, score, max_output_size=5):\n",
    "    colors = {k: tuple(map(int, np.random.randint(0, 255, 3))) for k in range(max_output_size)}\n",
    "    x1 = int(ground_truth_row['x_min'])\n",
    "    x2 = int(ground_truth_row['x_max'])\n",
    "    y1 = int(ground_truth_row['y_min'])\n",
    "    y2 = int(ground_truth_row['y_max'])\n",
    "    \n",
    "    image = cv2.imread(f'./res/train_imgs/{ground_truth_row[\"image\"]}', cv2.COLOR_BGR2RGB)\n",
    "    cv2.rectangle(image, (x1, y1), (x2, y2), (255, 0, 0), thickness=4)\n",
    "\n",
    "    GT = ground_truth_row[['x', 'y', 'w', 'h']]\n",
    "    iou = []\n",
    "    for box in anchor_boxes:\n",
    "        iou.append(IoU(GT, box))\n",
    "    iou = np.array(iou)\n",
    "    \n",
    "    selected_indices = tf.image.non_max_suppression(anchor_boxes, iou, max_output_size=max_output_size, score_threshold=0.01)\n",
    "    anchor_boxes = tf.gather(anchor_boxes, selected_indices)\n",
    "    \n",
    "    for i, anchor_box in enumerate(anchor_boxes):\n",
    "        anchor_box = anchor_to_coordinate(anchor_box.numpy())\n",
    "        cv2.rectangle(\n",
    "            image, \n",
    "            (int(anchor_box[0]), int(anchor_box[2])), (int(anchor_box[1]), int(anchor_box[3])), \n",
    "            colors.get(i), \n",
    "            thickness=2\n",
    "        )\n",
    "\n",
    "    fig, ax = plt.subplots(dpi=200)\n",
    "    ax.imshow(image)\n",
    "    ax.axis('off')\n",
    "    plt.show()"
   ]
  },
  {
   "cell_type": "code",
   "execution_count": 511,
   "id": "indoor-magic",
   "metadata": {},
   "outputs": [],
   "source": [
    "# GT = ground_truth.iloc[0][['x', 'y', 'w', 'h']]\n",
    "# iou = []\n",
    "# for box in anchor_boxes:\n",
    "#     iou.append(IoU(GT, box))\n",
    "# iou = np.array(iou)\n",
    "\n",
    "# draw_nms(ground_truth.iloc[0], valid_anchor_boxes, max_output_size=5)"
   ]
  },
  {
   "cell_type": "code",
   "execution_count": null,
   "id": "monetary-telephone",
   "metadata": {},
   "outputs": [],
   "source": []
  },
  {
   "cell_type": "code",
   "execution_count": null,
   "id": "separated-fireplace",
   "metadata": {},
   "outputs": [],
   "source": []
  },
  {
   "cell_type": "code",
   "execution_count": null,
   "id": "scenic-institute",
   "metadata": {},
   "outputs": [],
   "source": []
  },
  {
   "cell_type": "code",
   "execution_count": null,
   "id": "extended-sponsorship",
   "metadata": {},
   "outputs": [],
   "source": []
  },
  {
   "cell_type": "code",
   "execution_count": null,
   "id": "modern-question",
   "metadata": {},
   "outputs": [],
   "source": []
  },
  {
   "cell_type": "code",
   "execution_count": null,
   "id": "approximate-heater",
   "metadata": {},
   "outputs": [],
   "source": []
  },
  {
   "cell_type": "markdown",
   "id": "processed-carrier",
   "metadata": {},
   "source": [
    "### Regional Interest Projection"
   ]
  },
  {
   "cell_type": "code",
   "execution_count": null,
   "id": "generous-observer",
   "metadata": {},
   "outputs": [],
   "source": [
    "class Regional_Interest_Projection(tf.keras.layers.Lyaer):\n",
    "    def __init__(self, base_layer, regional_interest, **kwargs):\n",
    "        super(Regional_Interest_Projection, self).__init__(**kwargs)\n",
    "        self.base_layer = base_layer\n",
    "        self.regional_interest = regional_interest\n",
    "        \n",
    "    def projection(self, x):\n",
    "        pass\n",
    "        \n",
    "    def call(self, anchor_box):\n",
    "        x = projection(anchor_box)\n",
    "        return x"
   ]
  },
  {
   "cell_type": "code",
   "execution_count": null,
   "id": "incorporate-jesus",
   "metadata": {},
   "outputs": [],
   "source": [
    "def projection(inputs):\n",
    "    pass\n",
    "\n",
    "def Regional_Interest_Projection(feature_map, regional_interest):\n",
    "    return projection(feature_map, regional_interest)"
   ]
  },
  {
   "cell_type": "markdown",
   "id": "circular-terminology",
   "metadata": {},
   "source": [
    "### RoI pooling"
   ]
  },
  {
   "cell_type": "code",
   "execution_count": 106,
   "id": "powerful-amazon",
   "metadata": {
    "code_folding": []
   },
   "outputs": [],
   "source": [
    "class RoIPooling(tf.keras.layers.Layer):\n",
    "    def __init__(self, pool_size, num_rois, **kwargs):\n",
    "        super(RoIPooling, self).__init__(**kwargs)\n",
    "        self.pool_size = pool_size\n",
    "        self.num_rois = num_rois\n",
    "\n",
    "    def build(self, input_shape):\n",
    "        self.nb_channels = input_shape[0][3]   \n",
    "\n",
    "    def compute_output_shape(self, input_shape):\n",
    "        return (None, self.num_rois, self.pool_size, self.pool_size, self.nb_channels)\n",
    "\n",
    "    def call(self, x):\n",
    "        \n",
    "        assert(len(x) == 2)\n",
    "\n",
    "        # x[0] is image with shape (rows, cols, channels)\n",
    "        img = x[0]\n",
    "\n",
    "        # x[1] is roi with shape (num_rois,4) with ordering (x,y,w,h)\n",
    "        rois = x[1]\n",
    "\n",
    "        input_shape = tf.shape(img)\n",
    "\n",
    "        outputs = []\n",
    "        for roi_idx in range(self.num_rois):\n",
    "\n",
    "            x = rois[0, roi_idx, 0]\n",
    "            y = rois[0, roi_idx, 1]\n",
    "            w = rois[0, roi_idx, 2]\n",
    "            h = rois[0, roi_idx, 3]\n",
    "\n",
    "            x = tf.keras.backend.cast(x, 'int32')\n",
    "            y = tf.keras.backend.cast(y, 'int32')\n",
    "            w = tf.keras.backend.cast(w, 'int32')\n",
    "            h = tf.keras.backend.cast(h, 'int32')\n",
    "\n",
    "            # Resized roi of the image to pooling size (7x7)\n",
    "            rs = tf.image.resize(img[:, y:y+h, x:x+w, :], (self.pool_size, self.pool_size))\n",
    "            outputs.append(rs)\n",
    "                \n",
    "\n",
    "        final_output = tf.keras.backend.concatenate(outputs, axis=0)\n",
    "\n",
    "        # Reshape to (1, num_rois, pool_size, pool_size, nb_channels)\n",
    "        final_output = tf.keras.backend.reshape(final_output, (1, self.num_rois, self.pool_size, self.pool_size, self.nb_channels))\n",
    "\n",
    "        # permute_dimensions is similar to transpose\n",
    "        final_output = tf.keras.backend.permute_dimensions(final_output, (0, 1, 2, 3, 4))\n",
    "\n",
    "        return final_output\n",
    "    \n",
    "    \n",
    "    def get_config(self):\n",
    "        config = {'pool_size': self.pool_size,\n",
    "                  'num_rois': self.num_rois}\n",
    "        base_config = super(RoiPoolingConv, self).get_config()\n",
    "        return dict(list(base_config.items()) + list(config.items()))"
   ]
  },
  {
   "cell_type": "code",
   "execution_count": 27,
   "id": "solved-music",
   "metadata": {},
   "outputs": [],
   "source": [
    "class ROIPoolingLayer(tf.keras.layers.Layer):\n",
    "    def __init__(self, h, w, **kwargs):\n",
    "        super(RoIPooling, self).__init__(**kwargs)\n",
    "        self.h = h\n",
    "        self.w = w\n",
    "        \n",
    "    @staticmethod\n",
    "    def _pool_rois(feature_map, rois, pooled_height, pooled_width):\n",
    "        def curried_pool_roi(roi):\n",
    "            return ROIPoolingLayer._pool_roi(feature_map, roi,\n",
    "                                             pooled_height, pooled_width)\n",
    "\n",
    "        pooled_areas = tf.map_fn(curried_pool_roi, rois, dtype=tf.float32)\n",
    "        return pooled_areas\n",
    "\n",
    "    @staticmethod\n",
    "    def _pool_roi(feature_map, roi, pooled_height, pooled_width):\n",
    "\n",
    "        feature_map_height = int(feature_map.shape[0])\n",
    "        feature_map_width = int(feature_map.shape[1])\n",
    "\n",
    "        h_start = tf.cast(feature_map_height * roi[0], 'int32')\n",
    "        w_start = tf.cast(feature_map_width * roi[1], 'int32')\n",
    "        h_end = tf.cast(feature_map_height * roi[2], 'int32')\n",
    "        w_end = tf.cast(feature_map_width * roi[3], 'int32')\n",
    "\n",
    "        region = feature_map[h_start:h_end, w_start:w_end, :]\n",
    "\n",
    "        region_height = h_end - h_start\n",
    "        region_width = w_end - w_start\n",
    "        h_step = tf.cast(region_height / pooled_height, 'int32')\n",
    "        w_step = tf.cast(region_width / pooled_width, 'int32')\n",
    "\n",
    "        areas = [[(\n",
    "            i*h_step,\n",
    "            j*w_step,\n",
    "            (i+1)*h_step if i+1 < pooled_height else region_height,\n",
    "            (j+1)*w_step if j+1 < pooled_width else region_width\n",
    "        )\n",
    "            for j in range(pooled_width)]\n",
    "            for i in range(pooled_height)]\n",
    "\n",
    "        def pool_area(x):\n",
    "            return tf.math.reduce_max(region[x[0]:x[2], x[1]:x[3], :], axis=[0, 1])\n",
    "\n",
    "        pooled_features = tf.stack([[pool_area(x) for x in row] for row in areas])\n",
    "        return pooled_features\n",
    "        \n",
    "    def call(self, x):\n",
    "        def curried_pool_rois(x):\n",
    "            return ROIPoolingLayer._pool_rois(x[0], x[1],\n",
    "                                              self.pooled_height,\n",
    "                                              self.pooled_width)\n",
    "\n",
    "        pooled_areas = tf.map_fn(curried_pool_rois, x, dtype=tf.float32)\n",
    "        return pooled_areas\n",
    "        \n",
    "    def compute_output_shape(self, input_shape):\n",
    "        feature_map_shape, rois_shape = input_shape\n",
    "        assert feature_map_shape[0] == rois_shape[0]\n",
    "        batch_size = feature_map_shape[0]\n",
    "        n_rois = rois_shape[1]\n",
    "        n_channels = feature_map_shape[3]\n",
    "        return (batch_size, n_rois, self.pooled_height,\n",
    "                self.pooled_width, n_channels)"
   ]
  },
  {
   "cell_type": "code",
   "execution_count": null,
   "id": "chief-racing",
   "metadata": {},
   "outputs": [],
   "source": []
  },
  {
   "cell_type": "code",
   "execution_count": null,
   "id": "moderate-naples",
   "metadata": {},
   "outputs": [],
   "source": []
  },
  {
   "cell_type": "markdown",
   "id": "baking-magnet",
   "metadata": {},
   "source": [
    "###  Classifier"
   ]
  },
  {
   "cell_type": "code",
   "execution_count": null,
   "id": "compact-crawford",
   "metadata": {},
   "outputs": [],
   "source": [
    "class Classifie(tf.keras.layers.Layer):\n",
    "    def __init__(self, base_layers, input_rois, **kwargs):\n",
    "        super(Classifie, self).__init__(**kwargs)\n",
    "        self.flatten = tf.keras.layers.Flatten()\n",
    "        self.dense1 = tf.keras.layers.Dense()\n",
    "        self.dense2 = tf.kersa.layers.Dense()\n",
    "        \n",
    "        self.dense3 = tf.keras.layers.Dense()\n",
    "        \n",
    "        self.dense4a = tf.keras.layers.Dense(activation='softmax')\n",
    "        self.dense4b = tf.keras.layers.Dense()\n",
    "        \n",
    "    def call(self, inputs):\n",
    "        x = self.flatten(inputs)\n",
    "        x = self.dense1(x)\n",
    "        x = self.dense2(x)\n",
    "        x = self.dense3(x)\n",
    "        \n",
    "        softmax = self.dense4a(x)\n",
    "        bbox_regressor = self.dense4b(x)"
   ]
  },
  {
   "cell_type": "markdown",
   "id": "corporate-algorithm",
   "metadata": {},
   "source": [
    "## Faster R-CNN"
   ]
  },
  {
   "cell_type": "code",
   "execution_count": null,
   "id": "middle-programmer",
   "metadata": {},
   "outputs": [],
   "source": [
    "class Faster_RCNN(tf.kersa.Model):\n",
    "    def __init__(self, train_step=0, **kwargs):\n",
    "        super(Faster_RCNN, self).__init__(*kwargs)\n",
    "        self.rpn = RPN()\n",
    "        self.rois = RoI()\n",
    "        self.detector = Detector()\n",
    "        self.train_step = train_step\n",
    "\n",
    "    def compile(self, optimizer, ...):\n",
    "        super(Faster_RCNN, self).compile()\n",
    "        self.optimizer = optimizer\n",
    "        ...\n",
    "        \n",
    "        self.rpn_loss_tracker = tf.keras.metrics.Mean(name='rpn_loss')\n",
    "        self.detector_loss_tracker = tf.keras.metrics.Mean(name='detector_loss')\n",
    "        \n",
    "    def RPN_Loss(self, z):\n",
    "        pass\n",
    "\n",
    "    def Detector_Loss(self, x, z):\n",
    "        pass\n",
    "        \n",
    "    def train_step(self, data):\n",
    "        batch_size = tf.shape(data)[0]\n",
    "\n",
    "        with tf.GradientTape() as tape:\n",
    "            generated_image = self.Generating(num=batch_size)\n",
    "            discriminator_loss = self.Discriminator_Loss(data, generated_image)\n",
    "        grad = tape.gradient(discriminator_loss, self.discriminator.trainable_weights)\n",
    "        self.discriminator_optimizer.apply_gradients(zip(grad, self.discriminator.trainable_weights))\n",
    "\n",
    "        with tf.GradientTape() as tape:\n",
    "            generated_image = self.Generating(num=batch_size)\n",
    "            generator_loss = self.Generator_Loss(generated_image)\n",
    "        grad = tape.gradient(generator_loss, self.generator.trainable_weights)\n",
    "        self.generator_optimizer.apply_gradients(zip(grad, self.generator.trainable_weights))\n",
    "\n",
    "        self.generator_loss_tracker.update_state(generator_loss)\n",
    "        self.discriminator_loss_tracker.update_state(discriminator_loss)\n",
    "\n",
    "        return {\n",
    "            'discriminator_loss': self.discriminator_loss_tracker.result(),\n",
    "            'generator_loss' : self.generator_loss_tracker.result()\n",
    "        }"
   ]
  },
  {
   "cell_type": "markdown",
   "id": "center-absence",
   "metadata": {},
   "source": [
    "## Loss"
   ]
  },
  {
   "cell_type": "markdown",
   "id": "square-margin",
   "metadata": {},
   "source": [
    "### classification Loss"
   ]
  },
  {
   "cell_type": "markdown",
   "id": "devoted-phrase",
   "metadata": {},
   "source": [
    "### bounding box regression Loss"
   ]
  },
  {
   "cell_type": "code",
   "execution_count": 260,
   "id": "heavy-funeral",
   "metadata": {},
   "outputs": [
    {
     "data": {
      "text/plain": [
       "tqdm.std.tqdm"
      ]
     },
     "execution_count": 260,
     "metadata": {},
     "output_type": "execute_result"
    }
   ],
   "source": [
    "def rpn_loss_regr_fixed_num(y_true, y_pred):\n",
    "\n",
    "        # x is the difference between true value and predicted vaue\n",
    "        x = y_true[:, :, :, 4 * num_anchors:] - y_pred\n",
    "\n",
    "        # absolute value of x\n",
    "        x_abs = K.abs(x)\n",
    "\n",
    "        # If x_abs &lt;= 1.0, x_bool = 1\n",
    "        x_bool = K.cast(K.less_equal(x_abs, 1.0), tf.float32)\n",
    "\n",
    "        return lambda_rpn_regr * K.sum(\n",
    "            y_true[:, :, :, :4 * num_anchors] * (x_bool * (0.5 * x * x) + (1 - x_bool) * (x_abs - 0.5))) / K.sum(epsilon + y_true[:, :, :, :4 * num_anchors])\n",
    "\n",
    "\n",
    "def rpn_loss_regr(num_anchors):\n",
    "    \"\"\"Loss function for rpn regression\n",
    "    Args:\n",
    "        num_anchors: number of anchors (9 in here)\n",
    "    Returns:\n",
    "        Smooth L1 loss function \n",
    "                           0.5*x*x (if x_abs &lt; 1)\n",
    "                           x_abx - 0.5 (otherwise)\n",
    "    \"\"\"\n",
    "    return rpn_loss_regr_fixed_num\n",
    "  \n",
    "def rpn_loss_cls_fixed_num(y_true, y_pred):\n",
    "\n",
    "            return lambda_rpn_class * K.sum(y_true[:, :, :, :num_anchors] * K.binary_crossentropy(y_pred[:, :, :, :], y_true[:, :, :, num_anchors:])) / K.sum(epsilon + y_true[:, :, :, :num_anchors])\n",
    "\n",
    "\n",
    "def rpn_loss_cls(num_anchors):\n",
    "    \"\"\"Loss function for rpn classification\n",
    "    Args:\n",
    "        num_anchors: number of anchors (9 in here)\n",
    "        y_true[:, :, :, :9]: [0,1,0,0,0,0,0,1,0] means only the second and the eighth box is valid which contains pos or neg anchor =&gt; isValid\n",
    "        y_true[:, :, :, 9:]: [0,1,0,0,0,0,0,0,0] means the second box is pos and eighth box is negative\n",
    "    Returns:\n",
    "        lambda * sum((binary_crossentropy(isValid*y_pred,y_true))) / N\n",
    "    \"\"\"\n",
    "    \n",
    "\n",
    "    return rpn_loss_cls_fixed_num"
   ]
  }
 ],
 "metadata": {
  "kernelspec": {
   "display_name": "Python 3",
   "language": "python",
   "name": "python3"
  },
  "language_info": {
   "codemirror_mode": {
    "name": "ipython",
    "version": 3
   },
   "file_extension": ".py",
   "mimetype": "text/x-python",
   "name": "python",
   "nbconvert_exporter": "python",
   "pygments_lexer": "ipython3",
   "version": "3.7.6"
  },
  "toc": {
   "base_numbering": 1,
   "nav_menu": {},
   "number_sections": true,
   "sideBar": true,
   "skip_h1_title": true,
   "title_cell": "Table of Contents",
   "title_sidebar": "Contents",
   "toc_cell": false,
   "toc_position": {
    "height": "calc(100% - 180px)",
    "left": "10px",
    "top": "150px",
    "width": "240.188px"
   },
   "toc_section_display": true,
   "toc_window_display": false
  },
  "varInspector": {
   "cols": {
    "lenName": 16,
    "lenType": 16,
    "lenVar": 40
   },
   "kernels_config": {
    "python": {
     "delete_cmd_postfix": "",
     "delete_cmd_prefix": "del ",
     "library": "var_list.py",
     "varRefreshCmd": "print(var_dic_list())"
    },
    "r": {
     "delete_cmd_postfix": ") ",
     "delete_cmd_prefix": "rm(",
     "library": "var_list.r",
     "varRefreshCmd": "cat(var_dic_list()) "
    }
   },
   "position": {
    "height": "385px",
    "left": "869px",
    "right": "20px",
    "top": "98px",
    "width": "478px"
   },
   "types_to_exclude": [
    "module",
    "function",
    "builtin_function_or_method",
    "instance",
    "_Feature"
   ],
   "window_display": false
  }
 },
 "nbformat": 4,
 "nbformat_minor": 5
}
