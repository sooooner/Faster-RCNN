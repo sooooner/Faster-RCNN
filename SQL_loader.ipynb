{
 "cells": [
  {
   "cell_type": "code",
   "execution_count": 1,
   "id": "literary-glass",
   "metadata": {},
   "outputs": [],
   "source": [
    "import pandas as pd\n",
    "import pymysql\n",
    "import pprint\n",
    "import matplotlib.pyplot as plt\n",
    "from PIL import Image\n",
    "import numpy as np\n",
    "import base64\n",
    "from io import BytesIO"
   ]
  },
  {
   "cell_type": "code",
   "execution_count": 2,
   "metadata": {},
   "outputs": [
    {
     "name": "stdout",
     "output_type": "stream",
     "text": [
      "/tf/Human-Detection-Model\r\n"
     ]
    }
   ],
   "source": [
    "! pwd"
   ]
  },
  {
   "cell_type": "code",
   "execution_count": 3,
   "id": "basic-export",
   "metadata": {},
   "outputs": [],
   "source": [
    "# path = ...\n",
    "path = '../../data/res/'\n",
    "train_image_path = path + './train_imgs/'\n",
    "train_df = pd.read_csv(path + './train_df.csv')"
   ]
  },
  {
   "cell_type": "code",
   "execution_count": 4,
   "id": "beautiful-robinson",
   "metadata": {},
   "outputs": [],
   "source": [
    "conn = pymysql.connect(host='mysql', user='root', charset='utf8') \n",
    "cursor = conn.cursor(pymysql.cursors.DictCursor)"
   ]
  },
  {
   "cell_type": "code",
   "execution_count": 5,
   "id": "accessory-stopping",
   "metadata": {},
   "outputs": [
    {
     "data": {
      "text/plain": [
       "1"
      ]
     },
     "execution_count": 5,
     "metadata": {},
     "output_type": "execute_result"
    }
   ],
   "source": [
    "sql = \"CREATE DATABASE IF NOT EXISTS dacon;\" \n",
    "cursor.execute(sql) "
   ]
  },
  {
   "cell_type": "code",
   "execution_count": 6,
   "id": "refined-agriculture",
   "metadata": {},
   "outputs": [
    {
     "data": {
      "text/plain": [
       "0"
      ]
     },
     "execution_count": 6,
     "metadata": {},
     "output_type": "execute_result"
    }
   ],
   "source": [
    "sql = \"USE dacon;\" \n",
    "cursor.execute(sql) "
   ]
  },
  {
   "cell_type": "code",
   "execution_count": 7,
   "id": "funded-mechanics",
   "metadata": {},
   "outputs": [
    {
     "data": {
      "text/plain": [
       "0"
      ]
     },
     "execution_count": 7,
     "metadata": {},
     "output_type": "execute_result"
    }
   ],
   "source": [
    "sql = '''\n",
    "CREATE TABLE IF NOT EXISTS keypoint(\n",
    "id INT(11) NOT NULL AUTO_INCREMENT,\n",
    "nose_x FLOAT(11) NOT NULL,\n",
    "nose_y FLOAT(11) NOT NULL,\n",
    "left_eye_x FLOAT(11) NOT NULL,\n",
    "left_eye_y FLOAT(11) NOT NULL,\n",
    "right_eye_x FLOAT(11) NOT NULL,\n",
    "right_eye_y FLOAT(11) NOT NULL,\n",
    "left_ear_x FLOAT(11) NOT NULL,\n",
    "left_ear_y FLOAT(11) NOT NULL,\n",
    "right_ear_x FLOAT(11) NOT NULL,\n",
    "right_ear_y FLOAT(11) NOT NULL,\n",
    "left_shoulder_x FLOAT(11) NOT NULL,\n",
    "left_shoulder_y FLOAT(11) NOT NULL,\n",
    "right_shoulder_x FLOAT(11) NOT NULL,\n",
    "right_shoulder_y FLOAT(11) NOT NULL,\n",
    "left_elbow_x FLOAT(11) NOT NULL,\n",
    "left_elbow_y FLOAT(11) NOT NULL,\n",
    "right_elbow_x FLOAT(11) NOT NULL,\n",
    "right_elbow_y FLOAT(11) NOT NULL,\n",
    "left_wrist_x FLOAT(11) NOT NULL,\n",
    "left_wrist_y FLOAT(11) NOT NULL,\n",
    "right_wrist_x FLOAT(11) NOT NULL,\n",
    "right_wrist_y FLOAT(11) NOT NULL,\n",
    "left_hip_x FLOAT(11) NOT NULL,\n",
    "left_hip_y FLOAT(11) NOT NULL,\n",
    "right_hip_x FLOAT(11) NOT NULL,\n",
    "right_hip_y FLOAT(11) NOT NULL,\n",
    "left_knee_x FLOAT(11) NOT NULL,\n",
    "left_knee_y FLOAT(11) NOT NULL,\n",
    "right_knee_x FLOAT(11) NOT NULL,\n",
    "right_knee_y FLOAT(11) NOT NULL,\n",
    "left_ankle_x FLOAT(11) NOT NULL,\n",
    "left_ankle_y FLOAT(11) NOT NULL,\n",
    "right_ankle_x FLOAT(11) NOT NULL,\n",
    "right_ankle_y FLOAT(11) NOT NULL,\n",
    "neck_x FLOAT(11) NOT NULL,\n",
    "neck_y FLOAT(11) NOT NULL,\n",
    "left_palm_x FLOAT(11) NOT NULL,\n",
    "left_palm_y FLOAT(11) NOT NULL,\n",
    "right_palm_x FLOAT(11) NOT NULL,\n",
    "right_palm_y FLOAT(11) NOT NULL,\n",
    "spine2_back_x FLOAT(11) NOT NULL,\n",
    "spine2_back_y FLOAT(11) NOT NULL,\n",
    "spine1_waist_x FLOAT(11) NOT NULL,\n",
    "spine1_waist_y FLOAT(11) NOT NULL,\n",
    "left_instep_x FLOAT(11) NOT NULL,\n",
    "left_instep_y FLOAT(11) NOT NULL,\n",
    "right_instep_x FLOAT(11) NOT NULL,\n",
    "right_instep_y FLOAT(11) NOT NULL,\n",
    "PRIMARY KEY (id)\n",
    ")\n",
    "'''\n",
    "cursor.execute(sql) "
   ]
  },
  {
   "cell_type": "code",
   "execution_count": 8,
   "id": "subject-clearance",
   "metadata": {},
   "outputs": [
    {
     "data": {
      "text/plain": [
       "0"
      ]
     },
     "execution_count": 8,
     "metadata": {},
     "output_type": "execute_result"
    }
   ],
   "source": [
    "sql = '''\n",
    "CREATE TABLE IF NOT EXISTS images (\n",
    "id INT(11) NOT NULL AUTO_INCREMENT,\n",
    "image_id INT(11) NOT NULL,\n",
    "file_name VARCHAR(30) NOT NULL,\n",
    "image MEDIUMBLOB NOT NULL,\n",
    "PRIMARY KEY (id),\n",
    "FOREIGN KEY (image_id) REFERENCES keypoint(id)\n",
    ")\n",
    "'''\n",
    "cursor.execute(sql) "
   ]
  },
  {
   "cell_type": "code",
   "execution_count": 9,
   "id": "center-accreditation",
   "metadata": {},
   "outputs": [],
   "source": [
    "# buffer = BytesIO()\n",
    "# cols = 'nose_x, nose_y, left_eye_x, left_eye_y, right_eye_x, right_eye_y, left_ear_x, left_ear_y, right_ear_x, right_ear_y, left_shoulder_x, left_shoulder_y, right_shoulder_x, right_shoulder_y, left_elbow_x, left_elbow_y, right_elbow_x, right_elbow_y, left_wrist_x, left_wrist_y,right_wrist_x, right_wrist_y, left_hip_x, left_hip_y, right_hip_x, right_hip_y, left_knee_x, left_knee_y, right_knee_x, right_knee_y,left_ankle_x, left_ankle_y, right_ankle_x, right_ankle_y, neck_x, neck_y, left_palm_x, left_palm_y, right_palm_x, right_palm_y, spine2_back_x, spine2_back_y, spine1_waist_x, spine1_waist_y, left_instep_x, left_instep_y, right_instep_x, right_instep_y'\n",
    "# for i in range(50):\n",
    "#     sql = f\"INSERT INTO keypoint ({cols}) VALUES ({', '.join(list(map(str, train.iloc[i].values[1:])))})\"\n",
    "#     cursor.execute(sql) \n",
    "    \n",
    "#     file_name = train.iloc[i][\"image\"]\n",
    "#     im = Image.open(train_image_path + file_name)\n",
    "#     im.save(buffer, format='jpeg')\n",
    "#     img_str = base64.b64encode(buffer.getvalue()).decode('UTF-8')\n",
    "#     sql = f\"INSERT INTO images (image_id, file_name, image) VALUES {i+1, file_name, img_str}\"\n",
    "#     cursor.execute(sql) \n",
    "# # conn.commit()"
   ]
  },
  {
   "cell_type": "code",
   "execution_count": 10,
   "id": "promising-making",
   "metadata": {},
   "outputs": [],
   "source": [
    "sql = \"SELECT * FROM keypoint;\" \n",
    "cursor.execute(sql) \n",
    "result = cursor.fetchall()\n",
    "keypoint_df = pd.json_normalize(result)"
   ]
  },
  {
   "cell_type": "code",
   "execution_count": 11,
   "id": "interstate-shareware",
   "metadata": {},
   "outputs": [],
   "source": [
    "sql = \"SELECT * FROM images;\" \n",
    "cursor.execute(sql) \n",
    "result = cursor.fetchall()\n",
    "image_df = pd.json_normalize(result)"
   ]
  },
  {
   "cell_type": "code",
   "execution_count": 12,
   "id": "heated-astronomy",
   "metadata": {},
   "outputs": [],
   "source": [
    "img = base64.decodebytes(image_df.iloc[0]['image'])"
   ]
  },
  {
   "cell_type": "code",
   "execution_count": 13,
   "id": "gentle-dragon",
   "metadata": {},
   "outputs": [],
   "source": [
    "# Image.open(BytesIO(img))"
   ]
  },
  {
   "cell_type": "code",
   "execution_count": 14,
   "id": "legal-migration",
   "metadata": {},
   "outputs": [],
   "source": [
    "sql = \"SELECT * FROM images LEFT JOIN keypoint on keypoint.id = images.image_id;\" \n",
    "cursor.execute(sql) \n",
    "result = cursor.fetchall()\n",
    "df = pd.json_normalize(result)"
   ]
  },
  {
   "cell_type": "code",
   "execution_count": 15,
   "id": "homeless-carrier",
   "metadata": {},
   "outputs": [],
   "source": [
    "# df.head()"
   ]
  }
 ],
 "metadata": {
  "kernelspec": {
   "display_name": "Python 3",
   "language": "python",
   "name": "python3"
  },
  "language_info": {
   "codemirror_mode": {
    "name": "ipython",
    "version": 3
   },
   "file_extension": ".py",
   "mimetype": "text/x-python",
   "name": "python",
   "nbconvert_exporter": "python",
   "pygments_lexer": "ipython3",
   "version": "3.6.9"
  },
  "toc": {
   "base_numbering": 1,
   "nav_menu": {},
   "number_sections": true,
   "sideBar": true,
   "skip_h1_title": false,
   "title_cell": "Table of Contents",
   "title_sidebar": "Contents",
   "toc_cell": false,
   "toc_position": {},
   "toc_section_display": true,
   "toc_window_display": false
  },
  "varInspector": {
   "cols": {
    "lenName": 16,
    "lenType": 16,
    "lenVar": 40
   },
   "kernels_config": {
    "python": {
     "delete_cmd_postfix": "",
     "delete_cmd_prefix": "del ",
     "library": "var_list.py",
     "varRefreshCmd": "print(var_dic_list())"
    },
    "r": {
     "delete_cmd_postfix": ") ",
     "delete_cmd_prefix": "rm(",
     "library": "var_list.r",
     "varRefreshCmd": "cat(var_dic_list()) "
    }
   },
   "types_to_exclude": [
    "module",
    "function",
    "builtin_function_or_method",
    "instance",
    "_Feature"
   ],
   "window_display": false
  }
 },
 "nbformat": 4,
 "nbformat_minor": 5
}
